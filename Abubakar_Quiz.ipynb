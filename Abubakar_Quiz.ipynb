{
 "cells": [
  {
   "cell_type": "markdown",
   "id": "ea013eb3",
   "metadata": {},
   "source": [
    "# QUESTION NO.1"
   ]
  },
  {
   "cell_type": "code",
   "execution_count": 1,
   "id": "be8bc466",
   "metadata": {},
   "outputs": [
    {
     "data": {
      "text/plain": [
       "(1, 50)"
      ]
     },
     "execution_count": 1,
     "metadata": {},
     "output_type": "execute_result"
    }
   ],
   "source": [
    "import numpy as np \n",
    "import pandas as pd\n",
    "oned_array = np.random.randint(0,255, size=(1,50))\n",
    "oned_array.shape"
   ]
  },
  {
   "cell_type": "code",
   "execution_count": 2,
   "id": "52a70142",
   "metadata": {},
   "outputs": [],
   "source": [
    "oned_array=oned_array.reshape(2,25)\n",
    "df= pd.DataFrame(oned_array , columns='A B C D E F G H I J K L M N O P Q R S T U V W X Y'.split(\" \"))"
   ]
  },
  {
   "cell_type": "code",
   "execution_count": 3,
   "id": "b9626e78",
   "metadata": {},
   "outputs": [
    {
     "data": {
      "text/html": [
       "<div>\n",
       "<style scoped>\n",
       "    .dataframe tbody tr th:only-of-type {\n",
       "        vertical-align: middle;\n",
       "    }\n",
       "\n",
       "    .dataframe tbody tr th {\n",
       "        vertical-align: top;\n",
       "    }\n",
       "\n",
       "    .dataframe thead th {\n",
       "        text-align: right;\n",
       "    }\n",
       "</style>\n",
       "<table border=\"1\" class=\"dataframe\">\n",
       "  <thead>\n",
       "    <tr style=\"text-align: right;\">\n",
       "      <th></th>\n",
       "      <th>A</th>\n",
       "      <th>B</th>\n",
       "      <th>C</th>\n",
       "      <th>D</th>\n",
       "      <th>E</th>\n",
       "      <th>F</th>\n",
       "      <th>G</th>\n",
       "      <th>H</th>\n",
       "      <th>I</th>\n",
       "      <th>J</th>\n",
       "      <th>...</th>\n",
       "      <th>Q</th>\n",
       "      <th>R</th>\n",
       "      <th>S</th>\n",
       "      <th>T</th>\n",
       "      <th>U</th>\n",
       "      <th>V</th>\n",
       "      <th>W</th>\n",
       "      <th>X</th>\n",
       "      <th>Y</th>\n",
       "      <th>Z</th>\n",
       "    </tr>\n",
       "  </thead>\n",
       "  <tbody>\n",
       "    <tr>\n",
       "      <th>0</th>\n",
       "      <td>21</td>\n",
       "      <td>71</td>\n",
       "      <td>174</td>\n",
       "      <td>61</td>\n",
       "      <td>221</td>\n",
       "      <td>161</td>\n",
       "      <td>180</td>\n",
       "      <td>56</td>\n",
       "      <td>189</td>\n",
       "      <td>28</td>\n",
       "      <td>...</td>\n",
       "      <td>209</td>\n",
       "      <td>4</td>\n",
       "      <td>206</td>\n",
       "      <td>215</td>\n",
       "      <td>177</td>\n",
       "      <td>210</td>\n",
       "      <td>33</td>\n",
       "      <td>41</td>\n",
       "      <td>38</td>\n",
       "      <td>195</td>\n",
       "    </tr>\n",
       "    <tr>\n",
       "      <th>1</th>\n",
       "      <td>29</td>\n",
       "      <td>131</td>\n",
       "      <td>175</td>\n",
       "      <td>176</td>\n",
       "      <td>236</td>\n",
       "      <td>181</td>\n",
       "      <td>42</td>\n",
       "      <td>234</td>\n",
       "      <td>111</td>\n",
       "      <td>63</td>\n",
       "      <td>...</td>\n",
       "      <td>70</td>\n",
       "      <td>41</td>\n",
       "      <td>18</td>\n",
       "      <td>230</td>\n",
       "      <td>91</td>\n",
       "      <td>156</td>\n",
       "      <td>144</td>\n",
       "      <td>17</td>\n",
       "      <td>132</td>\n",
       "      <td>204</td>\n",
       "    </tr>\n",
       "  </tbody>\n",
       "</table>\n",
       "<p>2 rows × 26 columns</p>\n",
       "</div>"
      ],
      "text/plain": [
       "    A    B    C    D    E    F    G    H    I   J  ...    Q   R    S    T  \\\n",
       "0  21   71  174   61  221  161  180   56  189  28  ...  209   4  206  215   \n",
       "1  29  131  175  176  236  181   42  234  111  63  ...   70  41   18  230   \n",
       "\n",
       "     U    V    W   X    Y    Z  \n",
       "0  177  210   33  41   38  195  \n",
       "1   91  156  144  17  132  204  \n",
       "\n",
       "[2 rows x 26 columns]"
      ]
     },
     "execution_count": 3,
     "metadata": {},
     "output_type": "execute_result"
    }
   ],
   "source": [
    "df['Z'] = df[\"A\"] + df[\"C\"]\n",
    "df\n"
   ]
  },
  {
   "cell_type": "code",
   "execution_count": 4,
   "id": "d4409f3f",
   "metadata": {},
   "outputs": [
    {
     "data": {
      "text/plain": [
       "<AxesSubplot:ylabel='Frequency'>"
      ]
     },
     "execution_count": 4,
     "metadata": {},
     "output_type": "execute_result"
    },
    {
     "data": {
      "image/png": "[encoded data removed]",
      "text/plain": [
       "<Figure size 432x288 with 1 Axes>"
      ]
     },
     "metadata": {
      "needs_background": "light"
     },
     "output_type": "display_data"
    }
   ],
   "source": [
    "df['A'].plot.hist(bins = 124)"
   ]
  },
  {
   "cell_type": "code",
   "execution_count": 5,
   "id": "af13e7ce",
   "metadata": {},
   "outputs": [],
   "source": [
    "import seaborn as sns"
   ]
  },
  {
   "cell_type": "code",
   "execution_count": 6,
   "id": "41fd8e14",
   "metadata": {},
   "outputs": [
    {
     "data": {
      "text/plain": [
       "<seaborn.axisgrid.FacetGrid at 0x252e937ed00>"
      ]
     },
     "execution_count": 6,
     "metadata": {},
     "output_type": "execute_result"
    },
    {
     "data": {
      "image/png": "[encoded data removed]",
      "text/plain": [
       "<Figure size 360x360 with 1 Axes>"
      ]
     },
     "metadata": {
      "needs_background": "light"
     },
     "output_type": "display_data"
    }
   ],
   "source": [
    "sns.displot(df['A'])"
   ]
  },
  {
   "cell_type": "code",
   "execution_count": 7,
   "id": "0b79039b",
   "metadata": {},
   "outputs": [
    {
     "name": "stdout",
     "output_type": "stream",
     "text": [
      "A     25.0\n",
      "B    101.0\n",
      "C    174.5\n",
      "D    118.5\n",
      "E    228.5\n",
      "F    171.0\n",
      "G    111.0\n",
      "H    145.0\n",
      "I    150.0\n",
      "J     45.5\n",
      "K     71.0\n",
      "L    145.0\n",
      "M    115.0\n",
      "N    178.5\n",
      "O    157.5\n",
      "P    160.5\n",
      "Q    139.5\n",
      "R     22.5\n",
      "S    112.0\n",
      "T    222.5\n",
      "U    134.0\n",
      "V    183.0\n",
      "W     88.5\n",
      "X     29.0\n",
      "Y     85.0\n",
      "Z    199.5\n",
      "dtype: float64\n",
      "    A    B    C    D    E    F    G    H    I   J  ...    Q   R    S    T  \\\n",
      "0  21   71  174   61  221  161   42   56  111  28  ...   70   4   18  215   \n",
      "1  29  131  175  176  236  181  180  234  189  63  ...  209  41  206  230   \n",
      "\n",
      "     U    V    W   X    Y    Z  \n",
      "0   91  156   33  17   38  195  \n",
      "1  177  210  144  41  132  204  \n",
      "\n",
      "[2 rows x 26 columns]\n",
      "A      5.656854\n",
      "B     42.426407\n",
      "C      0.707107\n",
      "D     81.317280\n",
      "E     10.606602\n",
      "F     14.142136\n",
      "G     97.580736\n",
      "H    125.865007\n",
      "I     55.154329\n",
      "J     24.748737\n",
      "K     49.497475\n",
      "L     45.254834\n",
      "M     67.882251\n",
      "N      4.949747\n",
      "O      3.535534\n",
      "P    112.429978\n",
      "Q     98.287843\n",
      "R     26.162951\n",
      "S    132.936075\n",
      "T     10.606602\n",
      "U     60.811183\n",
      "V     38.183766\n",
      "W     78.488853\n",
      "X     16.970563\n",
      "Y     66.468037\n",
      "Z      6.363961\n",
      "dtype: float64\n"
     ]
    }
   ],
   "source": [
    "print(df.mean())\n",
    "print(df.mode())\n",
    "print(df.std())"
   ]
  },
  {
   "cell_type": "code",
   "execution_count": 8,
   "id": "30c3e3c5",
   "metadata": {},
   "outputs": [
    {
     "data": {
      "text/html": [
       "<div>\n",
       "<style scoped>\n",
       "    .dataframe tbody tr th:only-of-type {\n",
       "        vertical-align: middle;\n",
       "    }\n",
       "\n",
       "    .dataframe tbody tr th {\n",
       "        vertical-align: top;\n",
       "    }\n",
       "\n",
       "    .dataframe thead th {\n",
       "        text-align: right;\n",
       "    }\n",
       "</style>\n",
       "<table border=\"1\" class=\"dataframe\">\n",
       "  <thead>\n",
       "    <tr style=\"text-align: right;\">\n",
       "      <th></th>\n",
       "      <th>A</th>\n",
       "      <th>B</th>\n",
       "      <th>C</th>\n",
       "      <th>D</th>\n",
       "      <th>E</th>\n",
       "      <th>F</th>\n",
       "      <th>G</th>\n",
       "      <th>H</th>\n",
       "      <th>I</th>\n",
       "      <th>J</th>\n",
       "      <th>...</th>\n",
       "      <th>Q</th>\n",
       "      <th>R</th>\n",
       "      <th>S</th>\n",
       "      <th>T</th>\n",
       "      <th>U</th>\n",
       "      <th>V</th>\n",
       "      <th>W</th>\n",
       "      <th>X</th>\n",
       "      <th>Y</th>\n",
       "      <th>Z</th>\n",
       "    </tr>\n",
       "  </thead>\n",
       "  <tbody>\n",
       "    <tr>\n",
       "      <th>0</th>\n",
       "      <td>21</td>\n",
       "      <td>71</td>\n",
       "      <td>174</td>\n",
       "      <td>61</td>\n",
       "      <td>221</td>\n",
       "      <td>161</td>\n",
       "      <td>180</td>\n",
       "      <td>56</td>\n",
       "      <td>189</td>\n",
       "      <td>28</td>\n",
       "      <td>...</td>\n",
       "      <td>209</td>\n",
       "      <td>4</td>\n",
       "      <td>206</td>\n",
       "      <td>215</td>\n",
       "      <td>177</td>\n",
       "      <td>210</td>\n",
       "      <td>33</td>\n",
       "      <td>41</td>\n",
       "      <td>38</td>\n",
       "      <td>195</td>\n",
       "    </tr>\n",
       "    <tr>\n",
       "      <th>1</th>\n",
       "      <td>29</td>\n",
       "      <td>131</td>\n",
       "      <td>175</td>\n",
       "      <td>176</td>\n",
       "      <td>236</td>\n",
       "      <td>181</td>\n",
       "      <td>42</td>\n",
       "      <td>234</td>\n",
       "      <td>111</td>\n",
       "      <td>63</td>\n",
       "      <td>...</td>\n",
       "      <td>70</td>\n",
       "      <td>41</td>\n",
       "      <td>18</td>\n",
       "      <td>230</td>\n",
       "      <td>91</td>\n",
       "      <td>156</td>\n",
       "      <td>144</td>\n",
       "      <td>17</td>\n",
       "      <td>132</td>\n",
       "      <td>204</td>\n",
       "    </tr>\n",
       "  </tbody>\n",
       "</table>\n",
       "<p>2 rows × 26 columns</p>\n",
       "</div>"
      ],
      "text/plain": [
       "    A    B    C    D    E    F    G    H    I   J  ...    Q   R    S    T  \\\n",
       "0  21   71  174   61  221  161  180   56  189  28  ...  209   4  206  215   \n",
       "1  29  131  175  176  236  181   42  234  111  63  ...   70  41   18  230   \n",
       "\n",
       "     U    V    W   X    Y    Z  \n",
       "0  177  210   33  41   38  195  \n",
       "1   91  156  144  17  132  204  \n",
       "\n",
       "[2 rows x 26 columns]"
      ]
     },
     "execution_count": 8,
     "metadata": {},
     "output_type": "execute_result"
    }
   ],
   "source": [
    "df.to_csv('mids.csv',index=False,sep = '#' ) \n",
    "df"
   ]
  },
  {
   "cell_type": "code",
   "execution_count": 9,
   "id": "97953134",
   "metadata": {},
   "outputs": [
    {
     "data": {
      "text/html": [
       "<div>\n",
       "<style scoped>\n",
       "    .dataframe tbody tr th:only-of-type {\n",
       "        vertical-align: middle;\n",
       "    }\n",
       "\n",
       "    .dataframe tbody tr th {\n",
       "        vertical-align: top;\n",
       "    }\n",
       "\n",
       "    .dataframe thead th {\n",
       "        text-align: right;\n",
       "    }\n",
       "</style>\n",
       "<table border=\"1\" class=\"dataframe\">\n",
       "  <thead>\n",
       "    <tr style=\"text-align: right;\">\n",
       "      <th></th>\n",
       "      <th>A</th>\n",
       "      <th>B</th>\n",
       "      <th>C</th>\n",
       "      <th>D</th>\n",
       "      <th>E</th>\n",
       "      <th>F</th>\n",
       "      <th>G</th>\n",
       "      <th>H</th>\n",
       "      <th>I</th>\n",
       "      <th>J</th>\n",
       "      <th>...</th>\n",
       "      <th>Q</th>\n",
       "      <th>R</th>\n",
       "      <th>S</th>\n",
       "      <th>T</th>\n",
       "      <th>U</th>\n",
       "      <th>V</th>\n",
       "      <th>W</th>\n",
       "      <th>X</th>\n",
       "      <th>Y</th>\n",
       "      <th>Z</th>\n",
       "    </tr>\n",
       "  </thead>\n",
       "  <tbody>\n",
       "    <tr>\n",
       "      <th>0</th>\n",
       "      <td>21</td>\n",
       "      <td>71</td>\n",
       "      <td>174</td>\n",
       "      <td>61</td>\n",
       "      <td>221</td>\n",
       "      <td>161</td>\n",
       "      <td>180</td>\n",
       "      <td>56</td>\n",
       "      <td>189</td>\n",
       "      <td>28</td>\n",
       "      <td>...</td>\n",
       "      <td>209</td>\n",
       "      <td>4</td>\n",
       "      <td>206</td>\n",
       "      <td>215</td>\n",
       "      <td>177</td>\n",
       "      <td>210</td>\n",
       "      <td>33</td>\n",
       "      <td>41</td>\n",
       "      <td>38</td>\n",
       "      <td>195</td>\n",
       "    </tr>\n",
       "    <tr>\n",
       "      <th>1</th>\n",
       "      <td>29</td>\n",
       "      <td>131</td>\n",
       "      <td>175</td>\n",
       "      <td>176</td>\n",
       "      <td>236</td>\n",
       "      <td>181</td>\n",
       "      <td>42</td>\n",
       "      <td>234</td>\n",
       "      <td>111</td>\n",
       "      <td>63</td>\n",
       "      <td>...</td>\n",
       "      <td>70</td>\n",
       "      <td>41</td>\n",
       "      <td>18</td>\n",
       "      <td>230</td>\n",
       "      <td>91</td>\n",
       "      <td>156</td>\n",
       "      <td>144</td>\n",
       "      <td>17</td>\n",
       "      <td>132</td>\n",
       "      <td>204</td>\n",
       "    </tr>\n",
       "  </tbody>\n",
       "</table>\n",
       "<p>2 rows × 26 columns</p>\n",
       "</div>"
      ],
      "text/plain": [
       "    A    B    C    D    E    F    G    H    I   J  ...    Q   R    S    T  \\\n",
       "0  21   71  174   61  221  161  180   56  189  28  ...  209   4  206  215   \n",
       "1  29  131  175  176  236  181   42  234  111  63  ...   70  41   18  230   \n",
       "\n",
       "     U    V    W   X    Y    Z  \n",
       "0  177  210   33  41   38  195  \n",
       "1   91  156  144  17  132  204  \n",
       "\n",
       "[2 rows x 26 columns]"
      ]
     },
     "execution_count": 9,
     "metadata": {},
     "output_type": "execute_result"
    }
   ],
   "source": [
    "df_r = pd.read_csv(\"mids.csv\", delimiter='#')\n",
    "df_r"
   ]
  },
  {
   "cell_type": "code",
   "execution_count": 10,
   "id": "5285f8d5",
   "metadata": {},
   "outputs": [
    {
     "data": {
      "text/html": [
       "<div>\n",
       "<style scoped>\n",
       "    .dataframe tbody tr th:only-of-type {\n",
       "        vertical-align: middle;\n",
       "    }\n",
       "\n",
       "    .dataframe tbody tr th {\n",
       "        vertical-align: top;\n",
       "    }\n",
       "\n",
       "    .dataframe thead th {\n",
       "        text-align: right;\n",
       "    }\n",
       "</style>\n",
       "<table border=\"1\" class=\"dataframe\">\n",
       "  <thead>\n",
       "    <tr style=\"text-align: right;\">\n",
       "      <th></th>\n",
       "      <th>index</th>\n",
       "      <th>A</th>\n",
       "      <th>B</th>\n",
       "      <th>C</th>\n",
       "      <th>D</th>\n",
       "      <th>E</th>\n",
       "      <th>F</th>\n",
       "      <th>G</th>\n",
       "      <th>H</th>\n",
       "      <th>I</th>\n",
       "      <th>...</th>\n",
       "      <th>Q</th>\n",
       "      <th>R</th>\n",
       "      <th>S</th>\n",
       "      <th>T</th>\n",
       "      <th>U</th>\n",
       "      <th>V</th>\n",
       "      <th>W</th>\n",
       "      <th>X</th>\n",
       "      <th>Y</th>\n",
       "      <th>Z</th>\n",
       "    </tr>\n",
       "  </thead>\n",
       "  <tbody>\n",
       "    <tr>\n",
       "      <th>0</th>\n",
       "      <td>0</td>\n",
       "      <td>21</td>\n",
       "      <td>71</td>\n",
       "      <td>174</td>\n",
       "      <td>61</td>\n",
       "      <td>221</td>\n",
       "      <td>161</td>\n",
       "      <td>180</td>\n",
       "      <td>56</td>\n",
       "      <td>189</td>\n",
       "      <td>...</td>\n",
       "      <td>209</td>\n",
       "      <td>4</td>\n",
       "      <td>206</td>\n",
       "      <td>215</td>\n",
       "      <td>177</td>\n",
       "      <td>210</td>\n",
       "      <td>33</td>\n",
       "      <td>41</td>\n",
       "      <td>38</td>\n",
       "      <td>195</td>\n",
       "    </tr>\n",
       "    <tr>\n",
       "      <th>1</th>\n",
       "      <td>1</td>\n",
       "      <td>29</td>\n",
       "      <td>131</td>\n",
       "      <td>175</td>\n",
       "      <td>176</td>\n",
       "      <td>236</td>\n",
       "      <td>181</td>\n",
       "      <td>42</td>\n",
       "      <td>234</td>\n",
       "      <td>111</td>\n",
       "      <td>...</td>\n",
       "      <td>70</td>\n",
       "      <td>41</td>\n",
       "      <td>18</td>\n",
       "      <td>230</td>\n",
       "      <td>91</td>\n",
       "      <td>156</td>\n",
       "      <td>144</td>\n",
       "      <td>17</td>\n",
       "      <td>132</td>\n",
       "      <td>204</td>\n",
       "    </tr>\n",
       "  </tbody>\n",
       "</table>\n",
       "<p>2 rows × 27 columns</p>\n",
       "</div>"
      ],
      "text/plain": [
       "   index   A    B    C    D    E    F    G    H    I  ...    Q   R    S    T  \\\n",
       "0      0  21   71  174   61  221  161  180   56  189  ...  209   4  206  215   \n",
       "1      1  29  131  175  176  236  181   42  234  111  ...   70  41   18  230   \n",
       "\n",
       "     U    V    W   X    Y    Z  \n",
       "0  177  210   33  41   38  195  \n",
       "1   91  156  144  17  132  204  \n",
       "\n",
       "[2 rows x 27 columns]"
      ]
     },
     "execution_count": 10,
     "metadata": {},
     "output_type": "execute_result"
    }
   ],
   "source": [
    "df.reset_index()\n"
   ]
  },
  {
   "cell_type": "code",
   "execution_count": 11,
   "id": "81929eda",
   "metadata": {},
   "outputs": [
    {
     "data": {
      "text/html": [
       "<div>\n",
       "<style scoped>\n",
       "    .dataframe tbody tr th:only-of-type {\n",
       "        vertical-align: middle;\n",
       "    }\n",
       "\n",
       "    .dataframe tbody tr th {\n",
       "        vertical-align: top;\n",
       "    }\n",
       "\n",
       "    .dataframe thead th {\n",
       "        text-align: right;\n",
       "    }\n",
       "</style>\n",
       "<table border=\"1\" class=\"dataframe\">\n",
       "  <thead>\n",
       "    <tr style=\"text-align: right;\">\n",
       "      <th></th>\n",
       "      <th>A</th>\n",
       "      <th>B</th>\n",
       "      <th>C</th>\n",
       "      <th>D</th>\n",
       "      <th>E</th>\n",
       "      <th>F</th>\n",
       "      <th>G</th>\n",
       "      <th>H</th>\n",
       "      <th>I</th>\n",
       "      <th>J</th>\n",
       "      <th>...</th>\n",
       "      <th>Q</th>\n",
       "      <th>R</th>\n",
       "      <th>S</th>\n",
       "      <th>T</th>\n",
       "      <th>U</th>\n",
       "      <th>V</th>\n",
       "      <th>W</th>\n",
       "      <th>X</th>\n",
       "      <th>Y</th>\n",
       "      <th>Z</th>\n",
       "    </tr>\n",
       "  </thead>\n",
       "  <tbody>\n",
       "    <tr>\n",
       "      <th>0</th>\n",
       "      <td>21</td>\n",
       "      <td>71</td>\n",
       "      <td>174</td>\n",
       "      <td>61</td>\n",
       "      <td>221</td>\n",
       "      <td>161</td>\n",
       "      <td>180</td>\n",
       "      <td>56</td>\n",
       "      <td>189</td>\n",
       "      <td>28</td>\n",
       "      <td>...</td>\n",
       "      <td>209</td>\n",
       "      <td>4</td>\n",
       "      <td>206</td>\n",
       "      <td>215</td>\n",
       "      <td>177</td>\n",
       "      <td>210</td>\n",
       "      <td>33</td>\n",
       "      <td>41</td>\n",
       "      <td>38</td>\n",
       "      <td>195</td>\n",
       "    </tr>\n",
       "    <tr>\n",
       "      <th>1</th>\n",
       "      <td>29</td>\n",
       "      <td>131</td>\n",
       "      <td>175</td>\n",
       "      <td>176</td>\n",
       "      <td>236</td>\n",
       "      <td>181</td>\n",
       "      <td>42</td>\n",
       "      <td>234</td>\n",
       "      <td>111</td>\n",
       "      <td>63</td>\n",
       "      <td>...</td>\n",
       "      <td>70</td>\n",
       "      <td>41</td>\n",
       "      <td>18</td>\n",
       "      <td>230</td>\n",
       "      <td>91</td>\n",
       "      <td>156</td>\n",
       "      <td>144</td>\n",
       "      <td>17</td>\n",
       "      <td>132</td>\n",
       "      <td>204</td>\n",
       "    </tr>\n",
       "  </tbody>\n",
       "</table>\n",
       "<p>2 rows × 26 columns</p>\n",
       "</div>"
      ],
      "text/plain": [
       "    A    B    C    D    E    F    G    H    I   J  ...    Q   R    S    T  \\\n",
       "0  21   71  174   61  221  161  180   56  189  28  ...  209   4  206  215   \n",
       "1  29  131  175  176  236  181   42  234  111  63  ...   70  41   18  230   \n",
       "\n",
       "     U    V    W   X    Y    Z  \n",
       "0  177  210   33  41   38  195  \n",
       "1   91  156  144  17  132  204  \n",
       "\n",
       "[2 rows x 26 columns]"
      ]
     },
     "execution_count": 11,
     "metadata": {},
     "output_type": "execute_result"
    }
   ],
   "source": [
    "df = df.reset_index(drop=True)\n",
    "df\n",
    "# print(df.head())"
   ]
  },
  {
   "cell_type": "code",
   "execution_count": 12,
   "id": "839f0fbf",
   "metadata": {},
   "outputs": [
    {
     "data": {
      "text/html": [
       "<div>\n",
       "<style scoped>\n",
       "    .dataframe tbody tr th:only-of-type {\n",
       "        vertical-align: middle;\n",
       "    }\n",
       "\n",
       "    .dataframe tbody tr th {\n",
       "        vertical-align: top;\n",
       "    }\n",
       "\n",
       "    .dataframe thead th {\n",
       "        text-align: right;\n",
       "    }\n",
       "</style>\n",
       "<table border=\"1\" class=\"dataframe\">\n",
       "  <thead>\n",
       "    <tr style=\"text-align: right;\">\n",
       "      <th></th>\n",
       "      <th>A</th>\n",
       "      <th>B</th>\n",
       "      <th>C</th>\n",
       "      <th>D</th>\n",
       "      <th>E</th>\n",
       "      <th>F</th>\n",
       "      <th>G</th>\n",
       "      <th>H</th>\n",
       "      <th>I</th>\n",
       "      <th>J</th>\n",
       "      <th>...</th>\n",
       "      <th>Q</th>\n",
       "      <th>R</th>\n",
       "      <th>S</th>\n",
       "      <th>T</th>\n",
       "      <th>U</th>\n",
       "      <th>V</th>\n",
       "      <th>W</th>\n",
       "      <th>X</th>\n",
       "      <th>Y</th>\n",
       "      <th>Z</th>\n",
       "    </tr>\n",
       "  </thead>\n",
       "  <tbody>\n",
       "    <tr>\n",
       "      <th>0</th>\n",
       "      <td>21</td>\n",
       "      <td>71</td>\n",
       "      <td>174</td>\n",
       "      <td>61</td>\n",
       "      <td>221</td>\n",
       "      <td>161</td>\n",
       "      <td>180</td>\n",
       "      <td>56</td>\n",
       "      <td>189</td>\n",
       "      <td>28</td>\n",
       "      <td>...</td>\n",
       "      <td>209</td>\n",
       "      <td>4</td>\n",
       "      <td>206</td>\n",
       "      <td>215</td>\n",
       "      <td>177</td>\n",
       "      <td>210</td>\n",
       "      <td>33</td>\n",
       "      <td>41</td>\n",
       "      <td>38</td>\n",
       "      <td>195</td>\n",
       "    </tr>\n",
       "    <tr>\n",
       "      <th>1</th>\n",
       "      <td>29</td>\n",
       "      <td>131</td>\n",
       "      <td>175</td>\n",
       "      <td>176</td>\n",
       "      <td>236</td>\n",
       "      <td>181</td>\n",
       "      <td>42</td>\n",
       "      <td>234</td>\n",
       "      <td>111</td>\n",
       "      <td>63</td>\n",
       "      <td>...</td>\n",
       "      <td>70</td>\n",
       "      <td>41</td>\n",
       "      <td>18</td>\n",
       "      <td>230</td>\n",
       "      <td>91</td>\n",
       "      <td>156</td>\n",
       "      <td>144</td>\n",
       "      <td>17</td>\n",
       "      <td>132</td>\n",
       "      <td>204</td>\n",
       "    </tr>\n",
       "  </tbody>\n",
       "</table>\n",
       "<p>2 rows × 26 columns</p>\n",
       "</div>"
      ],
      "text/plain": [
       "    A    B    C    D    E    F    G    H    I   J  ...    Q   R    S    T  \\\n",
       "0  21   71  174   61  221  161  180   56  189  28  ...  209   4  206  215   \n",
       "1  29  131  175  176  236  181   42  234  111  63  ...   70  41   18  230   \n",
       "\n",
       "     U    V    W   X    Y    Z  \n",
       "0  177  210   33  41   38  195  \n",
       "1   91  156  144  17  132  204  \n",
       "\n",
       "[2 rows x 26 columns]"
      ]
     },
     "execution_count": 12,
     "metadata": {},
     "output_type": "execute_result"
    }
   ],
   "source": [
    "df_r.head(10)"
   ]
  },
  {
   "cell_type": "code",
   "execution_count": 13,
   "id": "a1a5623f",
   "metadata": {},
   "outputs": [
    {
     "data": {
      "text/plain": [
       "Index(['A', 'B', 'C', 'D', 'E', 'F', 'G', 'H', 'I', 'J', 'K', 'L', 'M', 'N',\n",
       "       'O', 'P', 'Q', 'R', 'S', 'T', 'U', 'V', 'W', 'X', 'Y', 'Z'],\n",
       "      dtype='object')"
      ]
     },
     "execution_count": 13,
     "metadata": {},
     "output_type": "execute_result"
    }
   ],
   "source": [
    "df.columns"
   ]
  },
  {
   "cell_type": "code",
   "execution_count": 14,
   "id": "29e2dd19",
   "metadata": {},
   "outputs": [
    {
     "data": {
      "text/plain": [
       "0    26\n",
       "1    26\n",
       "dtype: int64"
      ]
     },
     "execution_count": 14,
     "metadata": {},
     "output_type": "execute_result"
    }
   ],
   "source": [
    "df.count('columns')"
   ]
  },
  {
   "cell_type": "markdown",
   "id": "68b17e11",
   "metadata": {},
   "source": [
    "# QUESTION NO.2"
   ]
  },
  {
   "cell_type": "code",
   "execution_count": 16,
   "id": "e798b6b9",
   "metadata": {},
   "outputs": [],
   "source": [
    "class Ball:\n",
    "    def __init__(self,diameter):\n",
    "        self.diameter=diameter\n",
    "    def getarea(self):\n",
    "        return f\"the area of the ball is {self.diameter**2*3.142} in centimeters\"\n",
    "class BlueBall(Ball):\n",
    "    def __init__(self,diameter,colour,box):\n",
    "        super().__init__(diameter)\n",
    "        self.colour=colour\n",
    "        self.box=box\n",
    "#         self.material=material\n",
    "    def hascolor(self):\n",
    "        return f\"the ball has a {self.colour} color \"\n",
    "    def hasarea(self):\n",
    "        return f\"the {self.colour} ball has a area of {self.diameter**2*3} in centimeters\"\n",
    "    def inthebox(self):\n",
    "        return f\"the {self.colour} ball is in the  {self.box} which is made up of wood\"\n",
    "        \n",
    "\n",
    "class Box:\n",
    "    def __init__(self,width,height,length):\n",
    "        self.width=width\n",
    "        self.height=height\n",
    "        self.length=length \n",
    "    def getArea(self):\n",
    "        return f\"the total area of a box is {self.height+self.length+self.width} in cubic meteres\"\n",
    "    def getWidth(self):\n",
    "        return self.width\n",
    "    def getHeight(self):\n",
    "        return self.height\n",
    "class Woodenbox(Box):\n",
    "    def __init__(self,width,height,length,material):\n",
    "        super().__init__(width,height,length)\n",
    "        self.material=material\n",
    "        \n",
    "    def getmaterial(self):\n",
    "        return f\"the material of the box is {self.material}\"  \n",
    "    \n",
    "    def set_blue_ball(self, blueball: BlueBall):\n",
    "        self.ball = blueball \n",
    "    def get_blue_ball(self):\n",
    "        return self.ball"
   ]
  },
  {
   "cell_type": "code",
   "execution_count": 17,
   "id": "eddd92b5",
   "metadata": {},
   "outputs": [],
   "source": [
    "woodbox=Woodenbox(width='2',length=\"1\",height=\"3\",material=\"wood\")"
   ]
  },
  {
   "cell_type": "code",
   "execution_count": 18,
   "id": "0b0e2dee",
   "metadata": {},
   "outputs": [
    {
     "data": {
      "text/plain": [
       "'the total area of a box is 312 in cubic meteres'"
      ]
     },
     "execution_count": 18,
     "metadata": {},
     "output_type": "execute_result"
    }
   ],
   "source": [
    "woodbox.getArea()"
   ]
  },
  {
   "cell_type": "code",
   "execution_count": 19,
   "id": "cdab0299",
   "metadata": {},
   "outputs": [
    {
     "data": {
      "text/plain": [
       "'the material of the box is wood'"
      ]
     },
     "execution_count": 19,
     "metadata": {},
     "output_type": "execute_result"
    }
   ],
   "source": [
    "woodbox.getmaterial()"
   ]
  },
  {
   "cell_type": "code",
   "execution_count": 20,
   "id": "535c6864",
   "metadata": {},
   "outputs": [],
   "source": [
    "blueball=BlueBall(1,\"blue\",\"Box\")"
   ]
  },
  {
   "cell_type": "code",
   "execution_count": 21,
   "id": "82e594a9",
   "metadata": {},
   "outputs": [
    {
     "data": {
      "text/plain": [
       "'the blue ball has a area of 3 in centimeters'"
      ]
     },
     "execution_count": 21,
     "metadata": {},
     "output_type": "execute_result"
    }
   ],
   "source": [
    "blueball.hasarea()"
   ]
  },
  {
   "cell_type": "code",
   "execution_count": 22,
   "id": "9c0a6421",
   "metadata": {},
   "outputs": [
    {
     "data": {
      "text/plain": [
       "'the blue ball is in the  Box which is made up of wood'"
      ]
     },
     "execution_count": 22,
     "metadata": {},
     "output_type": "execute_result"
    }
   ],
   "source": [
    "blueball.inthebox()"
   ]
  },
  {
   "cell_type": "markdown",
   "id": "bf7b6d9b",
   "metadata": {},
   "source": [
    "# QUESTION NO.3"
   ]
  },
  {
   "cell_type": "code",
   "execution_count": 34,
   "id": "0cce729e",
   "metadata": {},
   "outputs": [],
   "source": [
    "Abu =open(\"abu.txt\" , \"w\" ,encoding='utf-8')\n",
    "Abu.close()"
   ]
  },
  {
   "cell_type": "code",
   "execution_count": 38,
   "id": "91e9da61",
   "metadata": {},
   "outputs": [
    {
     "data": {
      "text/plain": [
       "[]"
      ]
     },
     "execution_count": 38,
     "metadata": {},
     "output_type": "execute_result"
    }
   ],
   "source": [
    "Abu =open('abu.txt' , \"r\" )\n",
    "Abu.readlines()"
   ]
  },
  {
   "cell_type": "code",
   "execution_count": 39,
   "id": "0d7da112",
   "metadata": {},
   "outputs": [],
   "source": [
    "def file_copy(enteredfile:str , savingname : str):\n",
    "    \n",
    "    readfile = open(enteredfile,'r')\n",
    "    data = readfile.read()\n",
    "    readfile.close()\n",
    "    \n",
    "    writingfile = open(savingname , 'w')\n",
    "    writingfile.write(data)\n",
    "    writingfile.close()\n"
   ]
  },
  {
   "cell_type": "code",
   "execution_count": 40,
   "id": "4e40dd75",
   "metadata": {},
   "outputs": [],
   "source": [
    "file_copy(\"abu.txt\", \"abu_copy.txt\")"
   ]
  },
  {
   "cell_type": "code",
   "execution_count": null,
   "id": "393ae8d3",
   "metadata": {},
   "outputs": [],
   "source": []
  }
 ],
 "metadata": {
  "kernelspec": {
   "display_name": "Python 3 (ipykernel)",
   "language": "python",
   "name": "python3"
  },
  "language_info": {
   "codemirror_mode": {
    "name": "ipython",
    "version": 3
   },
   "file_extension": ".py",
   "mimetype": "text/x-python",
   "name": "python",
   "nbconvert_exporter": "python",
   "pygments_lexer": "ipython3",
   "version": "3.9.7"
  }
 },
 "nbformat": 4,
 "nbformat_minor": 5
}
