{
 "cells": [
  {
   "cell_type": "code",
   "execution_count": 44,
   "id": "3d55f7e0",
   "metadata": {},
   "outputs": [],
   "source": [
    "class humans:\n",
    "    def __init__(self,food,water):\n",
    "        self.food=food\n",
    "        self.water=water\n",
    "        self.is_alive=False\n",
    "        self.is_drink=False\n",
    "        self.is_eat=False\n",
    "        \n",
    "    def alive(self):\n",
    "        if self.is_alive==False:\n",
    "            self.is_alive=True\n",
    "            print('human alive')\n",
    "    def drink(self):\n",
    "        if self.is_alive==True:\n",
    "            self.is_drink=True\n",
    "            print('human is able to drink')\n",
    "        \n",
    "   "
   ]
  },
  {
   "cell_type": "code",
   "execution_count": 45,
   "id": "9c74551f",
   "metadata": {},
   "outputs": [],
   "source": [
    "k=humans('meat','soda')"
   ]
  },
  {
   "cell_type": "code",
   "execution_count": 46,
   "id": "3a236c15",
   "metadata": {},
   "outputs": [
    {
     "name": "stdout",
     "output_type": "stream",
     "text": [
      "human alive\n"
     ]
    }
   ],
   "source": [
    "k.alive()"
   ]
  },
  {
   "cell_type": "code",
   "execution_count": 47,
   "id": "b03ea3e8",
   "metadata": {},
   "outputs": [
    {
     "name": "stdout",
     "output_type": "stream",
     "text": [
      "human is able to drink\n"
     ]
    }
   ],
   "source": [
    "k.drink()"
   ]
  },
  {
   "cell_type": "code",
   "execution_count": 48,
   "id": "182d5018",
   "metadata": {},
   "outputs": [],
   "source": [
    "class suppliers(humans):\n",
    "    def __init__(self,food,water,product):\n",
    "        humans.__init__(self,food,water)\n",
    "        self.product=product\n",
    "        \n",
    "    def is_product(self):\n",
    "        print(\"penadool\")"
   ]
  },
  {
   "cell_type": "code",
   "execution_count": 49,
   "id": "41f2766d",
   "metadata": {},
   "outputs": [],
   "source": [
    "m=suppliers('meat','soda','penadool')"
   ]
  },
  {
   "cell_type": "code",
   "execution_count": 50,
   "id": "c408555d",
   "metadata": {},
   "outputs": [
    {
     "name": "stdout",
     "output_type": "stream",
     "text": [
      "penadool\n"
     ]
    }
   ],
   "source": [
    "m.is_product()"
   ]
  },
  {
   "cell_type": "code",
   "execution_count": 51,
   "id": "88fe78ed",
   "metadata": {},
   "outputs": [],
   "source": [
    "class employ(suppliers,humans):\n",
    "    def __init__(self,food,water,name):\n",
    "        humans.__init__(self,food,water)\n",
    "        self.name=name\n",
    "    \n",
    "    def is_name(self):\n",
    "        print(self.name)\n",
    "    "
   ]
  },
  {
   "cell_type": "code",
   "execution_count": 52,
   "id": "15042441",
   "metadata": {},
   "outputs": [],
   "source": [
    "s=employ('meat','soda','abuabkar')"
   ]
  },
  {
   "cell_type": "code",
   "execution_count": 53,
   "id": "d8a3139f",
   "metadata": {},
   "outputs": [
    {
     "name": "stdout",
     "output_type": "stream",
     "text": [
      "abuabkar\n"
     ]
    }
   ],
   "source": [
    "s.is_name()"
   ]
  },
  {
   "cell_type": "code",
   "execution_count": 54,
   "id": "d087b546",
   "metadata": {},
   "outputs": [
    {
     "name": "stdout",
     "output_type": "stream",
     "text": [
      "human alive\n"
     ]
    }
   ],
   "source": [
    "s.alive()"
   ]
  },
  {
   "cell_type": "code",
   "execution_count": 55,
   "id": "ccc7b0fa",
   "metadata": {},
   "outputs": [
    {
     "name": "stdout",
     "output_type": "stream",
     "text": [
      "penadool\n"
     ]
    }
   ],
   "source": [
    "s.is_product()"
   ]
  },
  {
   "cell_type": "code",
   "execution_count": 56,
   "id": "ecae06bb",
   "metadata": {},
   "outputs": [],
   "source": [
    "class patient(suppliers,humans):\n",
    "    def __init__(self,food,water,disease,blood_group):\n",
    "        humans.__init__(self,food,water)\n",
    "       \n",
    "        self.__disease=disease\n",
    "        self.__blood_group=blood_group\n",
    "        \n",
    "    def is_disease(self):\n",
    "        print(self.__disease)\n",
    "        \n",
    "    def is_blood_group(self):\n",
    "        print(self.__blood_group)\n",
    "    "
   ]
  },
  {
   "cell_type": "code",
   "execution_count": 57,
   "id": "6b1de523",
   "metadata": {},
   "outputs": [],
   "source": [
    "l=patient('meat','soda','fever','0+')"
   ]
  },
  {
   "cell_type": "code",
   "execution_count": 58,
   "id": "1b4370f0",
   "metadata": {},
   "outputs": [
    {
     "name": "stdout",
     "output_type": "stream",
     "text": [
      "fever\n"
     ]
    }
   ],
   "source": [
    "l.is_disease()"
   ]
  },
  {
   "cell_type": "code",
   "execution_count": 59,
   "id": "19cbdf16",
   "metadata": {},
   "outputs": [
    {
     "name": "stdout",
     "output_type": "stream",
     "text": [
      "0+\n"
     ]
    }
   ],
   "source": [
    "l.is_blood_group()"
   ]
  },
  {
   "cell_type": "code",
   "execution_count": 60,
   "id": "b8a4956e",
   "metadata": {},
   "outputs": [
    {
     "name": "stdout",
     "output_type": "stream",
     "text": [
      "penadool\n"
     ]
    }
   ],
   "source": [
    "l.is_product()"
   ]
  },
  {
   "cell_type": "markdown",
   "id": "8aa3a2e8",
   "metadata": {},
   "source": [
    "# Question.02"
   ]
  },
  {
   "cell_type": "code",
   "execution_count": 61,
   "id": "7e3d7a59",
   "metadata": {},
   "outputs": [],
   "source": [
    "class organization:\n",
    "    def __init__(self,name,rank,project):\n",
    "        self.name=name\n",
    "        self.rank=rank\n",
    "        self.project=project\n",
    "        \n",
    "    def is_work(slef):\n",
    "        print('working on AI project')"
   ]
  },
  {
   "cell_type": "code",
   "execution_count": 62,
   "id": "96cfe796",
   "metadata": {},
   "outputs": [],
   "source": [
    "o1=organization('software house','A','python')"
   ]
  },
  {
   "cell_type": "code",
   "execution_count": 64,
   "id": "f286632b",
   "metadata": {},
   "outputs": [
    {
     "name": "stdout",
     "output_type": "stream",
     "text": [
      "working on AI project\n"
     ]
    }
   ],
   "source": [
    "o1.is_work()"
   ]
  },
  {
   "cell_type": "code",
   "execution_count": 70,
   "id": "9688ba4a",
   "metadata": {},
   "outputs": [],
   "source": [
    "class owner(organization):\n",
    "    def __init__(self,position,name,rank,project):\n",
    "        organization.__init__(self,name,rank,project)\n",
    "        \n",
    "        self.position=position\n",
    "        \n",
    "    def __del__(self):\n",
    "        print('The owner of the company is died')\n",
    "        \n",
    "    def place(self):\n",
    "        if self.position==0:\n",
    "            self.position=90\n",
    "            print('owner of the company is stand')\n",
    "            "
   ]
  },
  {
   "cell_type": "code",
   "execution_count": 73,
   "id": "673f0c58",
   "metadata": {},
   "outputs": [
    {
     "name": "stdout",
     "output_type": "stream",
     "text": [
      "The owner of the company is died\n"
     ]
    }
   ],
   "source": [
    "o2=owner(0,'software house','A','python')"
   ]
  },
  {
   "cell_type": "code",
   "execution_count": 74,
   "id": "654671da",
   "metadata": {},
   "outputs": [
    {
     "name": "stdout",
     "output_type": "stream",
     "text": [
      "owner of the company is stand\n"
     ]
    }
   ],
   "source": [
    "o2.place()"
   ]
  },
  {
   "cell_type": "code",
   "execution_count": null,
   "id": "796fdd19",
   "metadata": {},
   "outputs": [],
   "source": []
  }
 ],
 "metadata": {
  "kernelspec": {
   "display_name": "Python 3 (ipykernel)",
   "language": "python",
   "name": "python3"
  },
  "language_info": {
   "codemirror_mode": {
    "name": "ipython",
    "version": 3
   },
   "file_extension": ".py",
   "mimetype": "text/x-python",
   "name": "python",
   "nbconvert_exporter": "python",
   "pygments_lexer": "ipython3",
   "version": "3.9.7"
  }
 },
 "nbformat": 4,
 "nbformat_minor": 5
}
