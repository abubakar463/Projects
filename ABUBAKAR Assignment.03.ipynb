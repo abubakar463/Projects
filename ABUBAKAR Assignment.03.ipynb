{
 "cells": [
  {
   "cell_type": "markdown",
   "id": "59c89ba0",
   "metadata": {},
   "source": [
    "# Question.01"
   ]
  },
  {
   "cell_type": "markdown",
   "id": "08ab818e",
   "metadata": {},
   "source": [
    "##### Write a function in Python to calculate and return the average of a given list of integers.\n",
    "\n",
    "\n"
   ]
  },
  {
   "cell_type": "code",
   "execution_count": 1,
   "id": "c8013426",
   "metadata": {},
   "outputs": [],
   "source": [
    "def average(x):\n",
    "    return sum(x)/len(x)"
   ]
  },
  {
   "cell_type": "code",
   "execution_count": 3,
   "id": "0743275e",
   "metadata": {},
   "outputs": [
    {
     "data": {
      "text/plain": [
       "2.5"
      ]
     },
     "execution_count": 3,
     "metadata": {},
     "output_type": "execute_result"
    }
   ],
   "source": [
    "lst=[1,2,3,4]\n",
    "average(lst)"
   ]
  },
  {
   "cell_type": "markdown",
   "id": "5c5b70b6",
   "metadata": {},
   "source": [
    "# Question.02"
   ]
  },
  {
   "cell_type": "markdown",
   "id": "dc57ef52",
   "metadata": {},
   "source": [
    "##### Write a function in Python called isIn() to check for the existence of a substring within a string returning a Boolean value."
   ]
  },
  {
   "cell_type": "code",
   "execution_count": 20,
   "id": "30ef8b91",
   "metadata": {},
   "outputs": [],
   "source": [
    "def isin(string , substring):\n",
    "    for i in range(len(string)):\n",
    "        print(string[i:len(substring)+i])\n",
    "        if string[i:len(substring)+i] == substring:\n",
    "            return 'found'\n",
    "    return 'not found'\n"
   ]
  },
  {
   "cell_type": "code",
   "execution_count": 21,
   "id": "8c8b20ba",
   "metadata": {},
   "outputs": [
    {
     "name": "stdout",
     "output_type": "stream",
     "text": [
      "abubaka\n",
      "bubakar\n",
      "ubakarm\n",
      "bakarmu\n",
      "akarmuk\n",
      "karmukh\n",
      "armukht\n",
      "rmukhta\n",
      "mukhtar\n"
     ]
    },
    {
     "data": {
      "text/plain": [
       "'found'"
      ]
     },
     "execution_count": 21,
     "metadata": {},
     "output_type": "execute_result"
    }
   ],
   "source": [
    "isin('abubakarmukhtar','mukhtar')"
   ]
  },
  {
   "cell_type": "markdown",
   "id": "8a3588dd",
   "metadata": {},
   "source": [
    "# Question.03"
   ]
  },
  {
   "cell_type": "markdown",
   "id": "5448c386",
   "metadata": {},
   "source": [
    "##### Write a function in Python to demonstrate keyword arguments."
   ]
  },
  {
   "cell_type": "code",
   "execution_count": 10,
   "id": "fcf4c060",
   "metadata": {},
   "outputs": [
    {
     "name": "stdout",
     "output_type": "stream",
     "text": [
      "my younger child is:Benyameen\n"
     ]
    }
   ],
   "source": [
    "def my_function(child1,child2,child3):\n",
    "    print('my younger child is:'+child1)\n",
    "    \n",
    "    \n",
    "my_function(child1='Benyameen', child2='Ahmad', child3='Ali')\n",
    "    "
   ]
  },
  {
   "cell_type": "markdown",
   "id": "bdd52b29",
   "metadata": {},
   "source": [
    "# Queation.04"
   ]
  },
  {
   "cell_type": "markdown",
   "id": "4a473e7f",
   "metadata": {},
   "source": [
    "##### Write a script in Python to demonstrate nested functions."
   ]
  },
  {
   "cell_type": "code",
   "execution_count": 1,
   "id": "6dca6543",
   "metadata": {},
   "outputs": [
    {
     "name": "stdout",
     "output_type": "stream",
     "text": [
      "Hi abubakar nadeem\n"
     ]
    }
   ],
   "source": [
    "def name(x,y):\n",
    "    def name1():\n",
    "        return x+ ' '+y\n",
    "    print('Hi ' + name1())\n",
    "name('abubakar','nadeem')"
   ]
  },
  {
   "cell_type": "markdown",
   "id": "e439c274",
   "metadata": {},
   "source": [
    "# File Handling\n"
   ]
  },
  {
   "cell_type": "markdown",
   "id": "c36c7a24",
   "metadata": {},
   "source": [
    "# Q.01"
   ]
  },
  {
   "cell_type": "code",
   "execution_count": null,
   "id": "b6f9c416",
   "metadata": {
    "scrolled": true
   },
   "outputs": [],
   "source": [
    "while True:\n",
    "    choice=input('press 1 for enter the deta and 2 for retrive the deta or done for break')\n",
    "    if choice=='1':\n",
    "        name=input('enter your name')\n",
    "        CNIC=input('enter your CNIC')\n",
    "        hob=input('enter your hobbies')\n",
    "        occ=input('enter your occupation')\n",
    "        add=input('enter your residence adderase')\n",
    "    \n",
    "        record={CNIC:{'name':name,'CNIC':CNIC,'hobbies':hob,'occupation':occ,'adderase':add}}\n",
    "        file=open('abubakar.txt','a')\n",
    "        file.write(str(record)+'\\n')\n",
    "        file.close()\n",
    "    \n",
    "    elif choice=='done':\n",
    "        print('ALLAH HAFIZ')\n",
    "        break\n",
    "    \n",
    "    elif choice=='2':\n",
    "        file=open('abubakar.txt','r')\n",
    "        records=file.readlines()\n",
    "        file.close()\n",
    "        CNIC=input('enter your CNIC')\n",
    "        for record in records:\n",
    "            record=eval(record)\n",
    "            if CNIC in record.keys():\n",
    "                data=record[CNIC.values()]\n",
    "                print(data)\n",
    "       \n",
    "\n",
    "    else: print('worng input')\n",
    "\n",
    "\n",
    "\n",
    "\n"
   ]
  },
  {
   "cell_type": "markdown",
   "id": "a27c5b9f",
   "metadata": {},
   "source": [
    "# Q.02"
   ]
  },
  {
   "cell_type": "code",
   "execution_count": 3,
   "id": "e4ad7efa",
   "metadata": {},
   "outputs": [],
   "source": [
    "f=open('event.txt','w')\n",
    "f.write(\"\"\"i think i will go.A paragraph is a group of related sentences that support one main idea.\n",
    "        In general, paragraphs consist of three parts: the topic sentence, body sentences, \n",
    "        and the concluding or the bridge sentence to the next paragraph or section.\"\"\")\n",
    "f.close()"
   ]
  },
  {
   "cell_type": "code",
   "execution_count": 4,
   "id": "30ef1d5e",
   "metadata": {},
   "outputs": [
    {
     "name": "stdout",
     "output_type": "stream",
     "text": [
      "go.A 1\n",
      "a 1\n",
      " 14\n",
      "to 1\n",
      "topic 1\n",
      "idea.\n",
      " 1\n",
      "group 1\n",
      "will 1\n",
      "of 2\n",
      "sentence, 1\n",
      "section. 1\n",
      "i 2\n",
      "general, 1\n",
      "sentences, 1\n",
      "is 1\n",
      "parts: 1\n",
      "paragraph 2\n",
      "\n",
      " 1\n",
      "support 1\n",
      "three 1\n",
      "concluding 1\n",
      "sentences 1\n",
      "that 1\n",
      "consist 1\n",
      "the 4\n",
      "sentence 1\n",
      "body 1\n",
      "next 1\n",
      "and 1\n",
      "related 1\n",
      "paragraphs 1\n",
      "think 1\n",
      "In 1\n",
      "one 1\n",
      "bridge 1\n",
      "or 2\n",
      "main 1\n"
     ]
    }
   ],
   "source": [
    "f=open('event.txt','r')\n",
    "lines=f.read()\n",
    "words =lines.split(\" \")\n",
    "unique_words = set(words)\n",
    "for uword in unique_words:\n",
    "    count = 0\n",
    "    for word in words:\n",
    "        if uword==word:\n",
    "            count=count+1\n",
    "    print(uword,count)\n",
    "        \n",
    "    "
   ]
  },
  {
   "cell_type": "markdown",
   "id": "65c64b8a",
   "metadata": {},
   "source": [
    "# Q.03"
   ]
  },
  {
   "cell_type": "code",
   "execution_count": 15,
   "id": "f19c7a2c",
   "metadata": {},
   "outputs": [],
   "source": [
    "file=open('ali.txt','w')\n",
    "file.write('Muhammad abubakar\\n')\n",
    "file.write('Muhammad nadeem\\n')\n",
    "file.write('awais khan\\n')\n",
    "file.write('huzaifa yaman\\n')\n",
    "file.write('hammad bhuta\\n')\n",
    "file.write('usman mukhtar\\n')\n",
    "file.close()"
   ]
  },
  {
   "cell_type": "code",
   "execution_count": 18,
   "id": "c5fc7942",
   "metadata": {},
   "outputs": [
    {
     "name": "stdout",
     "output_type": "stream",
     "text": [
      "1 : Muhammad nadeem\n",
      "\n",
      "2 : awais khan\n",
      "\n",
      "3 : huzaifa yaman\n",
      "\n",
      "4 : hammad bhuta\n",
      "\n",
      "5 : usman mukhtar\n",
      "\n"
     ]
    }
   ],
   "source": [
    "file=open('ali.txt','r')\n",
    "file.readline()\n",
    "count=1\n",
    "for i in file:\n",
    "    print(count,':',i)\n",
    "    count=count+1\n"
   ]
  },
  {
   "cell_type": "markdown",
   "id": "c688df0d",
   "metadata": {},
   "source": [
    "# Exception Handling"
   ]
  },
  {
   "cell_type": "markdown",
   "id": "04b6a2f4",
   "metadata": {},
   "source": [
    "# Q.01"
   ]
  },
  {
   "cell_type": "code",
   "execution_count": 8,
   "id": "63d62657",
   "metadata": {},
   "outputs": [
    {
     "name": "stdout",
     "output_type": "stream",
     "text": [
      "ioh\n",
      "a must be integer! \n"
     ]
    }
   ],
   "source": [
    "# Value Error:\n",
    "try:\n",
    "    a=int(input())\n",
    "    print('you entered:',a)\n",
    "except ValueError:\n",
    "    print('a must be integer! ')"
   ]
  },
  {
   "cell_type": "code",
   "execution_count": 9,
   "id": "7041622f",
   "metadata": {},
   "outputs": [
    {
     "name": "stdout",
     "output_type": "stream",
     "text": [
      "enter Index here:9\n",
      "you put invilid index!\n"
     ]
    }
   ],
   "source": [
    "# Index Error:\n",
    "try:\n",
    "    a=['abubakar','ali','nadeem','awais','huzaifa']\n",
    "    b=int(input('enter Index here:'))\n",
    "    c=a[b]\n",
    "    print('right index',c)\n",
    "except:\n",
    "    print('you put invilid index!')"
   ]
  },
  {
   "cell_type": "code",
   "execution_count": 10,
   "id": "12da6716",
   "metadata": {},
   "outputs": [
    {
     "name": "stdout",
     "output_type": "stream",
     "text": [
      "enter name:abubakar\n",
      "Name Error:\n"
     ]
    }
   ],
   "source": [
    "# Name Error:\n",
    "try:\n",
    "    x=input('enter name:')\n",
    "    print(y)\n",
    "except:\n",
    "    print('Name Error:')"
   ]
  }
 ],
 "metadata": {
  "kernelspec": {
   "display_name": "Python 3 (ipykernel)",
   "language": "python",
   "name": "python3"
  },
  "language_info": {
   "codemirror_mode": {
    "name": "ipython",
    "version": 3
   },
   "file_extension": ".py",
   "mimetype": "text/x-python",
   "name": "python",
   "nbconvert_exporter": "python",
   "pygments_lexer": "ipython3",
   "version": "3.9.7"
  }
 },
 "nbformat": 4,
 "nbformat_minor": 5
}
