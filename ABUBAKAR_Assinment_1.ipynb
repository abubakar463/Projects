{
 "cells": [
  {
   "cell_type": "markdown",
   "id": "faf02313",
   "metadata": {},
   "source": [
    "# variables"
   ]
  },
  {
   "cell_type": "markdown",
   "id": "28c21fc3",
   "metadata": {},
   "source": [
    "# queation.01"
   ]
  },
  {
   "cell_type": "code",
   "execution_count": 1,
   "id": "acc31eb6",
   "metadata": {},
   "outputs": [
    {
     "name": "stdout",
     "output_type": "stream",
     "text": [
      "enter your name:chuck\n",
      "your name is: wellcome chuck\n"
     ]
    }
   ],
   "source": [
    "user_name=input(\"enter your name:\")\n",
    "x=(\"wellcome \")\n",
    "print(\"your name is:\",x+user_name)\n"
   ]
  },
  {
   "cell_type": "markdown",
   "id": "0f6118d4",
   "metadata": {},
   "source": [
    "# queation.02"
   ]
  },
  {
   "cell_type": "code",
   "execution_count": 2,
   "id": "4f2f70d5",
   "metadata": {},
   "outputs": [
    {
     "name": "stdout",
     "output_type": "stream",
     "text": [
      "Enter hours:22\n",
      "Enter rates per hours:25\n",
      "pay: 550.0\n"
     ]
    }
   ],
   "source": [
    "hrs=input(\"Enter hours:\")\n",
    "rates=input(\"Enter rates per hours:\")\n",
    "pay=float(hrs)*float(rates)\n",
    "print(\"pay:\",pay)"
   ]
  },
  {
   "cell_type": "markdown",
   "id": "556a9320",
   "metadata": {},
   "source": [
    "# Queation num 3"
   ]
  },
  {
   "cell_type": "code",
   "execution_count": 3,
   "id": "7f5e2e29",
   "metadata": {},
   "outputs": [
    {
     "name": "stdout",
     "output_type": "stream",
     "text": [
      "17\n"
     ]
    }
   ],
   "source": [
    "width=17\n",
    "height=12.0\n",
    "width//2\n",
    "print(width)"
   ]
  },
  {
   "cell_type": "code",
   "execution_count": 4,
   "id": "9531a579",
   "metadata": {},
   "outputs": [
    {
     "name": "stdout",
     "output_type": "stream",
     "text": [
      "17\n"
     ]
    }
   ],
   "source": [
    "width/2.0\n",
    "print(width)"
   ]
  },
  {
   "cell_type": "code",
   "execution_count": 5,
   "id": "1d321242",
   "metadata": {},
   "outputs": [
    {
     "name": "stdout",
     "output_type": "stream",
     "text": [
      "12.0\n"
     ]
    }
   ],
   "source": [
    "height/3\n",
    "print(height)"
   ]
  },
  {
   "cell_type": "code",
   "execution_count": 6,
   "id": "a18c4464",
   "metadata": {},
   "outputs": [
    {
     "data": {
      "text/plain": [
       "11"
      ]
     },
     "execution_count": 6,
     "metadata": {},
     "output_type": "execute_result"
    }
   ],
   "source": [
    "1+2*5"
   ]
  },
  {
   "cell_type": "markdown",
   "id": "f1bab82c",
   "metadata": {},
   "source": [
    "# Queation 4"
   ]
  },
  {
   "cell_type": "code",
   "execution_count": 7,
   "id": "18837760",
   "metadata": {},
   "outputs": [
    {
     "name": "stdout",
     "output_type": "stream",
     "text": [
      "Temprature in celsius26\n",
      "temprature in fahrenheit =  78.8\n"
     ]
    }
   ],
   "source": [
    "celsius = float(input(\"Temprature in celsius\"))\n",
    "fahrenheit = (celsius * 9.0/5.0) + 32.0\n",
    "print(\"temprature in fahrenheit = \", fahrenheit)\n"
   ]
  },
  {
   "cell_type": "markdown",
   "id": "b5ea14cd",
   "metadata": {},
   "source": [
    "# Queation num 5"
   ]
  },
  {
   "cell_type": "code",
   "execution_count": 1,
   "id": "0092f597",
   "metadata": {},
   "outputs": [
    {
     "name": "stdout",
     "output_type": "stream",
     "text": [
      "enter the number49\n",
      "49 is a perfect square:\n"
     ]
    }
   ],
   "source": [
    "import math\n",
    "number=int(input(\"enter the number\"))\n",
    "root = math.sqrt(number)\n",
    "if int(root+0.5) ** 2==number:\n",
    "    print(number,\"is a perfect square:\")\n",
    "else:\n",
    "        print(number,\"is not a perfect square\")"
   ]
  },
  {
   "cell_type": "markdown",
   "id": "276fc10d",
   "metadata": {},
   "source": [
    "# queation num 6"
   ]
  },
  {
   "cell_type": "code",
   "execution_count": 9,
   "id": "b5904bf0",
   "metadata": {},
   "outputs": [
    {
     "name": "stdout",
     "output_type": "stream",
     "text": [
      "principle:25\n",
      "Rate of interest:35\n",
      "Time duration respetively: 45\n",
      "393.75\n"
     ]
    }
   ],
   "source": [
    "p=int(input(\"principle:\"))\n",
    "t=int(input(\"Rate of interest:\"))\n",
    "r=int(input(\"Time duration respetively: \"))\n",
    "z=(p*t*r)/100\n",
    "print(z)"
   ]
  },
  {
   "cell_type": "markdown",
   "id": "1799fa73",
   "metadata": {},
   "source": [
    "# queation.09"
   ]
  },
  {
   "cell_type": "code",
   "execution_count": 12,
   "id": "eddd89e6",
   "metadata": {},
   "outputs": [
    {
     "name": "stdout",
     "output_type": "stream",
     "text": [
      "enter your name:abubakar\n"
     ]
    },
    {
     "data": {
      "text/plain": [
       "'ABUBAKAR'"
      ]
     },
     "execution_count": 12,
     "metadata": {},
     "output_type": "execute_result"
    }
   ],
   "source": [
    "a=input(\"enter your name:\")\n",
    "a.upper()\n"
   ]
  },
  {
   "cell_type": "markdown",
   "id": "20c7b1bf",
   "metadata": {},
   "source": [
    "# string"
   ]
  },
  {
   "cell_type": "markdown",
   "id": "a51ee197",
   "metadata": {},
   "source": [
    "# queation.01"
   ]
  },
  {
   "cell_type": "code",
   "execution_count": 15,
   "id": "5690f353",
   "metadata": {},
   "outputs": [],
   "source": [
    "str = 'X-DSPAM-Confidence:0.8475'"
   ]
  },
  {
   "cell_type": "code",
   "execution_count": 17,
   "id": "46198cdb",
   "metadata": {},
   "outputs": [
    {
     "data": {
      "text/plain": [
       "'0.8475'"
      ]
     },
     "execution_count": 17,
     "metadata": {},
     "output_type": "execute_result"
    }
   ],
   "source": [
    "str[-6:]"
   ]
  },
  {
   "cell_type": "code",
   "execution_count": 18,
   "id": "c865b2d8",
   "metadata": {},
   "outputs": [],
   "source": [
    "num=str[-6:]"
   ]
  },
  {
   "cell_type": "code",
   "execution_count": 30,
   "id": "afd68b7a",
   "metadata": {},
   "outputs": [
    {
     "data": {
      "text/plain": [
       "'0.8475'"
      ]
     },
     "execution_count": 30,
     "metadata": {},
     "output_type": "execute_result"
    }
   ],
   "source": [
    "num"
   ]
  },
  {
   "cell_type": "code",
   "execution_count": 31,
   "id": "9d2a618e",
   "metadata": {},
   "outputs": [
    {
     "data": {
      "text/plain": [
       "str"
      ]
     },
     "execution_count": 31,
     "metadata": {},
     "output_type": "execute_result"
    }
   ],
   "source": [
    "type(num)"
   ]
  },
  {
   "cell_type": "code",
   "execution_count": 32,
   "id": "e574ad02",
   "metadata": {},
   "outputs": [],
   "source": [
    "num=float(num)"
   ]
  },
  {
   "cell_type": "code",
   "execution_count": 33,
   "id": "492f1882",
   "metadata": {},
   "outputs": [
    {
     "data": {
      "text/plain": [
       "float"
      ]
     },
     "execution_count": 33,
     "metadata": {},
     "output_type": "execute_result"
    }
   ],
   "source": [
    "type(num)"
   ]
  },
  {
   "cell_type": "code",
   "execution_count": 34,
   "id": "c1f4e2cd",
   "metadata": {},
   "outputs": [
    {
     "data": {
      "text/plain": [
       "0.8475"
      ]
     },
     "execution_count": 34,
     "metadata": {},
     "output_type": "execute_result"
    }
   ],
   "source": [
    "num"
   ]
  },
  {
   "cell_type": "markdown",
   "id": "9bc44e77",
   "metadata": {},
   "source": [
    "# queation.02"
   ]
  },
  {
   "cell_type": "code",
   "execution_count": 20,
   "id": "123bc216",
   "metadata": {},
   "outputs": [
    {
     "data": {
      "text/plain": [
       "['Welcome', 'to', 'the', 'Course', 'on', 'Data', 'Science']"
      ]
     },
     "execution_count": 20,
     "metadata": {},
     "output_type": "execute_result"
    }
   ],
   "source": [
    "my_str = \"Welcome to the Course on Data Science\"\n",
    "my_str.split()"
   ]
  },
  {
   "cell_type": "code",
   "execution_count": 21,
   "id": "5a071c21",
   "metadata": {},
   "outputs": [
    {
     "data": {
      "text/plain": [
       "'Welcome to t'"
      ]
     },
     "execution_count": 21,
     "metadata": {},
     "output_type": "execute_result"
    }
   ],
   "source": [
    "my_str[:12]"
   ]
  },
  {
   "cell_type": "code",
   "execution_count": 22,
   "id": "b09bdc41",
   "metadata": {},
   "outputs": [
    {
     "data": {
      "text/plain": [
       "'Welcome to the Course on Data Science'"
      ]
     },
     "execution_count": 22,
     "metadata": {},
     "output_type": "execute_result"
    }
   ],
   "source": [
    "my_str"
   ]
  },
  {
   "cell_type": "code",
   "execution_count": 23,
   "id": "d3cadd8c",
   "metadata": {},
   "outputs": [
    {
     "data": {
      "text/plain": [
       "'WelcomeScience'"
      ]
     },
     "execution_count": 23,
     "metadata": {},
     "output_type": "execute_result"
    }
   ],
   "source": [
    "my_str[:7] + my_str[-7:]"
   ]
  },
  {
   "cell_type": "markdown",
   "id": "edc28dd9",
   "metadata": {},
   "source": [
    "# queation.03"
   ]
  },
  {
   "cell_type": "code",
   "execution_count": 24,
   "id": "eee3c1c1",
   "metadata": {},
   "outputs": [
    {
     "data": {
      "text/plain": [
       "3"
      ]
     },
     "execution_count": 24,
     "metadata": {},
     "output_type": "execute_result"
    }
   ],
   "source": [
    "str = (\"i am a good boy\")\n",
    "str.count(\"o\")"
   ]
  },
  {
   "cell_type": "markdown",
   "id": "2baa8c20",
   "metadata": {},
   "source": [
    "# queation.04"
   ]
  },
  {
   "cell_type": "code",
   "execution_count": 25,
   "id": "f29c3275",
   "metadata": {},
   "outputs": [
    {
     "data": {
      "text/plain": [
       "26"
      ]
     },
     "execution_count": 25,
     "metadata": {},
     "output_type": "execute_result"
    }
   ],
   "source": [
    "str=(\"this is a good class class\")\n",
    "len(str)"
   ]
  },
  {
   "cell_type": "code",
   "execution_count": 26,
   "id": "bdd5a216",
   "metadata": {},
   "outputs": [
    {
     "data": {
      "text/plain": [
       "2"
      ]
     },
     "execution_count": 26,
     "metadata": {},
     "output_type": "execute_result"
    }
   ],
   "source": [
    "str.count(\"class\")"
   ]
  },
  {
   "cell_type": "code",
   "execution_count": 27,
   "id": "e57ce04c",
   "metadata": {},
   "outputs": [
    {
     "data": {
      "text/plain": [
       "1"
      ]
     },
     "execution_count": 27,
     "metadata": {},
     "output_type": "execute_result"
    }
   ],
   "source": [
    "str.count(\"good\")"
   ]
  },
  {
   "cell_type": "code",
   "execution_count": 28,
   "id": "ebad9127",
   "metadata": {},
   "outputs": [
    {
     "data": {
      "text/plain": [
       "2"
      ]
     },
     "execution_count": 28,
     "metadata": {},
     "output_type": "execute_result"
    }
   ],
   "source": [
    "str.count(\"is\")"
   ]
  },
  {
   "cell_type": "markdown",
   "id": "88c48685",
   "metadata": {},
   "source": [
    "# queation.05"
   ]
  },
  {
   "cell_type": "code",
   "execution_count": 29,
   "id": "9cbebc70",
   "metadata": {},
   "outputs": [
    {
     "data": {
      "text/plain": [
       "'I nt'"
      ]
     },
     "execution_count": 29,
     "metadata": {},
     "output_type": "execute_result"
    }
   ],
   "source": [
    "s =(\"I am a student\")\n",
    "s[:2] + s[-2:]"
   ]
  },
  {
   "cell_type": "markdown",
   "id": "1f8713c9",
   "metadata": {},
   "source": [
    "# list"
   ]
  },
  {
   "cell_type": "markdown",
   "id": "8fe501fe",
   "metadata": {},
   "source": [
    "# queation.01"
   ]
  },
  {
   "cell_type": "code",
   "execution_count": 35,
   "id": "37104561",
   "metadata": {},
   "outputs": [
    {
     "data": {
      "text/plain": [
       "[2, 3]"
      ]
     },
     "execution_count": 35,
     "metadata": {},
     "output_type": "execute_result"
    }
   ],
   "source": [
    "my_list=[1,2,3,4]\n",
    "my_list[1:3]"
   ]
  },
  {
   "cell_type": "markdown",
   "id": "23445203",
   "metadata": {},
   "source": [
    "# queation.02"
   ]
  },
  {
   "cell_type": "code",
   "execution_count": 36,
   "id": "3a233998",
   "metadata": {},
   "outputs": [
    {
     "name": "stdout",
     "output_type": "stream",
     "text": [
      "{'nadeem', 'abubakar', 'ali', 'usman'}\n"
     ]
    }
   ],
   "source": [
    "my_list=[\"abubakar\",\"nadeem\",\"ali\",\"usman\",\"usman\",\"abubakar\"]\n",
    "a=set(my_list)\n",
    "print(a)"
   ]
  },
  {
   "cell_type": "markdown",
   "id": "92ef0d86",
   "metadata": {},
   "source": [
    "# queation.03"
   ]
  },
  {
   "cell_type": "code",
   "execution_count": 37,
   "id": "45608a6b",
   "metadata": {},
   "outputs": [
    {
     "data": {
      "text/plain": [
       "15"
      ]
     },
     "execution_count": 37,
     "metadata": {},
     "output_type": "execute_result"
    }
   ],
   "source": [
    "a=[1,2,3,4,5]\n",
    "sum(a)\n"
   ]
  },
  {
   "cell_type": "markdown",
   "id": "35316310",
   "metadata": {},
   "source": [
    "# queation.04"
   ]
  },
  {
   "cell_type": "code",
   "execution_count": 39,
   "id": "129fa0b4",
   "metadata": {},
   "outputs": [
    {
     "name": "stdout",
     "output_type": "stream",
     "text": [
      "minimum num is: 2 maxmimum num is: 23\n"
     ]
    }
   ],
   "source": [
    "my_list=[2,3,4,5,6,7,8,9,8,7,10,11,15,18,23]\n",
    "print(\"minimum num is:\",min(my_list),\"maxmimum num is:\",max(my_list))"
   ]
  },
  {
   "cell_type": "markdown",
   "id": "162eeebf",
   "metadata": {},
   "source": [
    "# queation.05"
   ]
  },
  {
   "cell_type": "code",
   "execution_count": 40,
   "id": "78168419",
   "metadata": {},
   "outputs": [
    {
     "name": "stdout",
     "output_type": "stream",
     "text": [
      "{'awais', 'nadeem', 'abubakar'}\n"
     ]
    }
   ],
   "source": [
    "my_list=[\"awais\",\"abubakar\",\"awais\",\"abubakar\",\"nadeem\",\"nadeem\"]\n",
    "a=set(my_list)\n",
    "print(a)\n"
   ]
  },
  {
   "cell_type": "markdown",
   "id": "ea9c43ef",
   "metadata": {},
   "source": [
    "# queation.06"
   ]
  },
  {
   "cell_type": "code",
   "execution_count": 41,
   "id": "07df98e1",
   "metadata": {},
   "outputs": [
    {
     "data": {
      "text/plain": [
       "{'abubakar'}"
      ]
     },
     "execution_count": 41,
     "metadata": {},
     "output_type": "execute_result"
    }
   ],
   "source": [
    "a=[\"bilal\",\"abubakar\",\"awais\"]\n",
    "b=[\"mohsin\",\"abubakar\",\"usman\"]\n",
    "x=set(a)\n",
    "y=set(b)\n",
    "x.intersection(y)"
   ]
  },
  {
   "cell_type": "code",
   "execution_count": 42,
   "id": "18143afb",
   "metadata": {},
   "outputs": [
    {
     "data": {
      "text/plain": [
       "{2, 3, 4}"
      ]
     },
     "execution_count": 42,
     "metadata": {},
     "output_type": "execute_result"
    }
   ],
   "source": [
    "a=set([1,2,3,4])\n",
    "b=set([2,3,4,5])\n",
    "a.intersection(b)"
   ]
  },
  {
   "cell_type": "markdown",
   "id": "130aa327",
   "metadata": {},
   "source": [
    "# queation.07"
   ]
  },
  {
   "cell_type": "code",
   "execution_count": 2,
   "id": "2b3524b6",
   "metadata": {},
   "outputs": [
    {
     "name": "stdout",
     "output_type": "stream",
     "text": [
      "['awais', 'abubakar']\n"
     ]
    }
   ],
   "source": [
    "lst=[\"awais\",\"abubakar\"]\n",
    "a = str(lst)\n",
    "print(a)\n",
    "\n"
   ]
  },
  {
   "cell_type": "code",
   "execution_count": 3,
   "id": "4582343d",
   "metadata": {},
   "outputs": [
    {
     "data": {
      "text/plain": [
       "str"
      ]
     },
     "execution_count": 3,
     "metadata": {},
     "output_type": "execute_result"
    }
   ],
   "source": [
    "type()"
   ]
  },
  {
   "cell_type": "markdown",
   "id": "21c4791b",
   "metadata": {},
   "source": [
    "# queation.08"
   ]
  },
  {
   "cell_type": "code",
   "execution_count": 47,
   "id": "0d0bb166",
   "metadata": {},
   "outputs": [
    {
     "data": {
      "text/plain": [
       "True"
      ]
     },
     "execution_count": 47,
     "metadata": {},
     "output_type": "execute_result"
    }
   ],
   "source": [
    "lst=[\"a\",\"b\",\"c\"]\n",
    "lst1=[\"a\",\"b\",\"c\"]\n",
    "lst==lst1\n",
    "# if lst==lst1:\n",
    "#     print(\"true:\")\n",
    "# else:  \n",
    "#      print(\"false:\")  \n"
   ]
  },
  {
   "cell_type": "markdown",
   "id": "e7428770",
   "metadata": {},
   "source": [
    "# queation.o9"
   ]
  },
  {
   "cell_type": "code",
   "execution_count": 48,
   "id": "1ddd9b5d",
   "metadata": {},
   "outputs": [
    {
     "name": "stdout",
     "output_type": "stream",
     "text": [
      "{2, 3, 'abubakar', 'umar', 4, 5, 'usman'}\n"
     ]
    }
   ],
   "source": [
    "lst=[\"abubakar\",\"umar\",\"usman\",\"umar\",2,3,4,5,2,3,4,5]\n",
    "a=set(lst)\n",
    "print(a)"
   ]
  },
  {
   "cell_type": "markdown",
   "id": "ddbed7c1",
   "metadata": {},
   "source": [
    "# queation.10"
   ]
  },
  {
   "cell_type": "code",
   "execution_count": 49,
   "id": "a93d9344",
   "metadata": {},
   "outputs": [
    {
     "data": {
      "text/plain": [
       "1"
      ]
     },
     "execution_count": 49,
     "metadata": {},
     "output_type": "execute_result"
    }
   ],
   "source": [
    "lst=[\"a\",\"b\",\"c\",\"d\",\"u\",2,2,3,4,5]\n",
    "lst.count(\"a\")"
   ]
  },
  {
   "cell_type": "code",
   "execution_count": 50,
   "id": "eccf147d",
   "metadata": {},
   "outputs": [
    {
     "data": {
      "text/plain": [
       "2"
      ]
     },
     "execution_count": 50,
     "metadata": {},
     "output_type": "execute_result"
    }
   ],
   "source": [
    "lst.count(2)"
   ]
  },
  {
   "cell_type": "markdown",
   "id": "77a0ea6f",
   "metadata": {},
   "source": [
    "# quetion.11"
   ]
  },
  {
   "cell_type": "code",
   "execution_count": 51,
   "id": "4d93ba79",
   "metadata": {},
   "outputs": [
    {
     "name": "stdout",
     "output_type": "stream",
     "text": [
      "[4, 5, 6, 7]\n"
     ]
    }
   ],
   "source": [
    "l_o_l = [[1,2,3],[4,5,6,7],[8,9,0]]\n",
    "print(max(l_o_l, key=sum))"
   ]
  },
  {
   "cell_type": "markdown",
   "id": "34997e1a",
   "metadata": {},
   "source": [
    "# queation.12"
   ]
  },
  {
   "cell_type": "code",
   "execution_count": 52,
   "id": "0e8a73d6",
   "metadata": {},
   "outputs": [],
   "source": [
    "lst=[\"abubakar\",\"usman\",\"ali\",\"umar\"]"
   ]
  },
  {
   "cell_type": "code",
   "execution_count": 53,
   "id": "c9ef78e6",
   "metadata": {},
   "outputs": [
    {
     "name": "stdout",
     "output_type": "stream",
     "text": [
      "['awais', 'usman', 'ali', 'umar']\n"
     ]
    }
   ],
   "source": [
    "lst[0]=\"awais\"\n",
    "print(lst)"
   ]
  },
  {
   "cell_type": "code",
   "execution_count": 54,
   "id": "6522b411",
   "metadata": {},
   "outputs": [],
   "source": [
    "lst=[\"abubakar\",\"usman\",\"ali\"]"
   ]
  },
  {
   "cell_type": "code",
   "execution_count": 55,
   "id": "ffad81c8",
   "metadata": {},
   "outputs": [
    {
     "name": "stdout",
     "output_type": "stream",
     "text": [
      "['good abubakar', 'good usman', 'good ali']\n"
     ]
    }
   ],
   "source": [
    "\n",
    "lst_1=[]\n",
    "for item in lst:\n",
    "    item = \"good \" + item\n",
    "    lst_1.append(item)    \n",
    "    \n",
    "print(lst_1)    \n",
    "    "
   ]
  },
  {
   "cell_type": "markdown",
   "id": "e3d918ef",
   "metadata": {},
   "source": [
    "# queation.13"
   ]
  },
  {
   "cell_type": "code",
   "execution_count": 56,
   "id": "ab59914e",
   "metadata": {},
   "outputs": [
    {
     "data": {
      "text/plain": [
       "str"
      ]
     },
     "execution_count": 56,
     "metadata": {},
     "output_type": "execute_result"
    }
   ],
   "source": [
    "str=(\"abubakar\")\n",
    "type(str)"
   ]
  },
  {
   "cell_type": "code",
   "execution_count": 57,
   "id": "df291c32",
   "metadata": {},
   "outputs": [
    {
     "data": {
      "text/plain": [
       "list"
      ]
     },
     "execution_count": 57,
     "metadata": {},
     "output_type": "execute_result"
    }
   ],
   "source": [
    "a=list(str)\n",
    "type(a)\n"
   ]
  },
  {
   "cell_type": "code",
   "execution_count": 58,
   "id": "693454c6",
   "metadata": {},
   "outputs": [
    {
     "name": "stdout",
     "output_type": "stream",
     "text": [
      "['a', 'b', 'u', 'b', 'a', 'k', 'a', 'r']\n"
     ]
    }
   ],
   "source": [
    "print(a)"
   ]
  },
  {
   "cell_type": "markdown",
   "id": "3d0e0197",
   "metadata": {},
   "source": [
    "# queation.14"
   ]
  },
  {
   "cell_type": "code",
   "execution_count": 59,
   "id": "097a4891",
   "metadata": {},
   "outputs": [
    {
     "name": "stdout",
     "output_type": "stream",
     "text": [
      "another list: ['abubakar', 'ali', 'awais', 1, 2, 3]\n"
     ]
    }
   ],
   "source": [
    "lst=[\"abubakar\",\"ali\",\"awais\"]\n",
    "lst_1=[1,2,3]\n",
    "print(\"another list:\",lst+lst_1)"
   ]
  },
  {
   "cell_type": "markdown",
   "id": "c8a6ffd9",
   "metadata": {},
   "source": [
    "# queation.15"
   ]
  },
  {
   "cell_type": "code",
   "execution_count": 60,
   "id": "922e7fc7",
   "metadata": {},
   "outputs": [
    {
     "name": "stdout",
     "output_type": "stream",
     "text": [
      "[['a', 'd', 'g', 'j', 'm']]\n",
      "[['a', 'd', 'g', 'j', 'm'], ['b', 'e', 'h', 'k', 'n']]\n",
      "[['a', 'd', 'g', 'j', 'm'], ['b', 'e', 'h', 'k', 'n'], ['c', 'f', 'i', 'l']]\n"
     ]
    }
   ],
   "source": [
    "lst = ['a', 'b', 'c', 'd', 'e', 'f', 'g', 'h', 'i', 'j', 'k', 'l', 'm', 'n']\n",
    "s = []\n",
    "n = 3\n",
    "for x in range(n):\n",
    "    s.append(lst[x::n])\n",
    "    print(s)\n"
   ]
  },
  {
   "cell_type": "markdown",
   "id": "676348fc",
   "metadata": {},
   "source": [
    "# queation.16"
   ]
  },
  {
   "cell_type": "code",
   "execution_count": 61,
   "id": "ef7d2d7e",
   "metadata": {},
   "outputs": [
    {
     "name": "stdout",
     "output_type": "stream",
     "text": [
      "25122"
     ]
    }
   ],
   "source": [
    "lst = [25,12,2]\n",
    "for i in lst:\n",
    "    print(i,end='')"
   ]
  },
  {
   "cell_type": "markdown",
   "id": "a34944c0",
   "metadata": {},
   "source": [
    "# tuple"
   ]
  },
  {
   "cell_type": "markdown",
   "id": "a96255f8",
   "metadata": {},
   "source": [
    "# queation.01"
   ]
  },
  {
   "cell_type": "code",
   "execution_count": 62,
   "id": "8c32096f",
   "metadata": {},
   "outputs": [
    {
     "data": {
      "text/plain": [
       "((1,), (2,), (3,))"
      ]
     },
     "execution_count": 62,
     "metadata": {},
     "output_type": "execute_result"
    }
   ],
   "source": [
    "t=(1,2,3)\n",
    "tuple((n,)for n in t)\n"
   ]
  },
  {
   "cell_type": "markdown",
   "id": "c3ad63b7",
   "metadata": {},
   "source": [
    "# queation.02"
   ]
  },
  {
   "cell_type": "code",
   "execution_count": 63,
   "id": "4a9025fc",
   "metadata": {},
   "outputs": [
    {
     "name": "stdout",
     "output_type": "stream",
     "text": [
      "tuple found: (6, 7)\n"
     ]
    }
   ],
   "source": [
    "#ount the number of elements in a list until it finds a tuple in the list.\n",
    "m=[1,2,3,4,(6,7),8,9]\n",
    "for i in m:\n",
    "    if  type(i)==tuple:\n",
    "        print(\"tuple found:\",i)"
   ]
  },
  {
   "cell_type": "markdown",
   "id": "11bcb9dc",
   "metadata": {},
   "source": [
    "# queation.03"
   ]
  },
  {
   "cell_type": "code",
   "execution_count": 64,
   "id": "ee437c32",
   "metadata": {},
   "outputs": [
    {
     "name": "stdout",
     "output_type": "stream",
     "text": [
      "new tuple is: ('abubakar', 'azar', 'nadeem', 'huzaifa', 1, 2, 3, 4, 5, 6)\n"
     ]
    }
   ],
   "source": [
    "tp=('abubakar','azar','nadeem','huzaifa')\n",
    "tp1=(1,2,3,4,5,6)\n",
    "print(\"new tuple is:\",tp+tp1)"
   ]
  },
  {
   "cell_type": "markdown",
   "id": "913b07d9",
   "metadata": {},
   "source": [
    "# queation.04"
   ]
  },
  {
   "cell_type": "code",
   "execution_count": 65,
   "id": "b0833010",
   "metadata": {},
   "outputs": [
    {
     "name": "stdout",
     "output_type": "stream",
     "text": [
      "new tuple: (1, 2, 3, 4, 1, 2, 3, 4)\n"
     ]
    }
   ],
   "source": [
    "tp=(1,2,3,4)\n",
    "int=2\n",
    "print(\"new tuple:\",tp*int)"
   ]
  },
  {
   "cell_type": "markdown",
   "id": "ac27d475",
   "metadata": {},
   "source": [
    "# start"
   ]
  },
  {
   "cell_type": "code",
   "execution_count": 66,
   "id": "9660df0b",
   "metadata": {},
   "outputs": [
    {
     "data": {
      "text/plain": [
       "list"
      ]
     },
     "execution_count": 66,
     "metadata": {},
     "output_type": "execute_result"
    }
   ],
   "source": [
    "tp=(1,2,3,4)\n",
    "list_1=list(tp)\n",
    "type(list_1)"
   ]
  },
  {
   "cell_type": "code",
   "execution_count": 67,
   "id": "f9ddc189",
   "metadata": {},
   "outputs": [
    {
     "name": "stdout",
     "output_type": "stream",
     "text": [
      "[2, 4, 6, 8]\n"
     ]
    }
   ],
   "source": [
    "a=2\n",
    "list_2=[]\n",
    "for n in tp:\n",
    "    item=n*a\n",
    "    list_2.append(item)\n",
    "print(list_2)"
   ]
  },
  {
   "cell_type": "code",
   "execution_count": 68,
   "id": "d3441553",
   "metadata": {},
   "outputs": [
    {
     "data": {
      "text/plain": [
       "tuple"
      ]
     },
     "execution_count": 68,
     "metadata": {},
     "output_type": "execute_result"
    }
   ],
   "source": [
    "b=tuple(list_2)\n",
    "type(b)"
   ]
  },
  {
   "cell_type": "markdown",
   "id": "d4b88009",
   "metadata": {},
   "source": [
    "# sets"
   ]
  },
  {
   "cell_type": "markdown",
   "id": "c6ba5571",
   "metadata": {},
   "source": [
    "# queation.01"
   ]
  },
  {
   "cell_type": "code",
   "execution_count": 69,
   "id": "330ed7fe",
   "metadata": {},
   "outputs": [
    {
     "name": "stdout",
     "output_type": "stream",
     "text": [
      "{1, 2, 3, 4, 5, 6, 7, 8, 9, 10}\n"
     ]
    }
   ],
   "source": [
    "st={1,2,3,4,5,6,7,8,9}\n",
    "st.add(10)\n",
    "print(st)"
   ]
  },
  {
   "cell_type": "markdown",
   "id": "d689f3f2",
   "metadata": {},
   "source": [
    "# in checking"
   ]
  },
  {
   "cell_type": "code",
   "execution_count": 70,
   "id": "03a8b158",
   "metadata": {},
   "outputs": [],
   "source": [
    "st={1,2,3,4,5,6,7,8,9}"
   ]
  },
  {
   "cell_type": "code",
   "execution_count": 71,
   "id": "9cbad17c",
   "metadata": {},
   "outputs": [
    {
     "data": {
      "text/plain": [
       "False"
      ]
     },
     "execution_count": 71,
     "metadata": {},
     "output_type": "execute_result"
    }
   ],
   "source": [
    "10 in st"
   ]
  },
  {
   "cell_type": "code",
   "execution_count": 72,
   "id": "89144446",
   "metadata": {},
   "outputs": [
    {
     "data": {
      "text/plain": [
       "True"
      ]
     },
     "execution_count": 72,
     "metadata": {},
     "output_type": "execute_result"
    }
   ],
   "source": [
    "7 in st"
   ]
  },
  {
   "cell_type": "markdown",
   "id": "3f5d0a1e",
   "metadata": {},
   "source": [
    "# queation.02"
   ]
  },
  {
   "cell_type": "code",
   "execution_count": 73,
   "id": "9cbeaeec",
   "metadata": {},
   "outputs": [
    {
     "data": {
      "text/plain": [
       "set"
      ]
     },
     "execution_count": 73,
     "metadata": {},
     "output_type": "execute_result"
    }
   ],
   "source": [
    "lst=[1,2,3,4,5,1,2,3,4,5,6,7,8,9,8,7,6,5,4,3,2]\n",
    "a=set(lst)\n",
    "type(a)\n"
   ]
  },
  {
   "cell_type": "code",
   "execution_count": 74,
   "id": "64434eca",
   "metadata": {},
   "outputs": [
    {
     "name": "stdout",
     "output_type": "stream",
     "text": [
      "{1, 2, 3, 4, 5, 6, 7, 8, 9}\n"
     ]
    }
   ],
   "source": [
    "print(a)"
   ]
  },
  {
   "cell_type": "markdown",
   "id": "7d93326d",
   "metadata": {},
   "source": [
    "# queation.03"
   ]
  },
  {
   "cell_type": "code",
   "execution_count": 75,
   "id": "3f24d005",
   "metadata": {},
   "outputs": [
    {
     "name": "stdout",
     "output_type": "stream",
     "text": [
      "Ip found:\n",
      "123.352.2.3\n",
      "Ip found:\n",
      "124.168.1.1\n"
     ]
    }
   ],
   "source": [
    "lst=[\"123.352.2.3\",\"124.168.1.1\",\"123.132.2.4\"]\n",
    "lst1=[\"124.168.1.1\",\"123.352.2.3\"]\n",
    "for i in lst:\n",
    "    if i in lst1:\n",
    "        print(\"Ip found:\")\n",
    "        print(i)"
   ]
  },
  {
   "cell_type": "markdown",
   "id": "679a8e98",
   "metadata": {},
   "source": [
    "# Dictionaries\n"
   ]
  },
  {
   "cell_type": "markdown",
   "id": "8db9f1ea",
   "metadata": {},
   "source": [
    "# queation.01"
   ]
  },
  {
   "cell_type": "code",
   "execution_count": 76,
   "id": "5144ec30",
   "metadata": {},
   "outputs": [
    {
     "data": {
      "text/plain": [
       "dict_keys([1115, 1116, 1117, 1118, 1119])"
      ]
     },
     "execution_count": 76,
     "metadata": {},
     "output_type": "execute_result"
    }
   ],
   "source": [
    "dic={1115:30,1116:25,1117:20,1118:15,1119:10}\n",
    "dic.keys()"
   ]
  },
  {
   "cell_type": "code",
   "execution_count": 77,
   "id": "07b09476",
   "metadata": {},
   "outputs": [
    {
     "data": {
      "text/plain": [
       "dict_values([30, 25, 20, 15, 10])"
      ]
     },
     "execution_count": 77,
     "metadata": {},
     "output_type": "execute_result"
    }
   ],
   "source": [
    "dic.values()"
   ]
  },
  {
   "cell_type": "code",
   "execution_count": 78,
   "id": "4ffb7ccd",
   "metadata": {},
   "outputs": [
    {
     "data": {
      "text/plain": [
       "20"
      ]
     },
     "execution_count": 78,
     "metadata": {},
     "output_type": "execute_result"
    }
   ],
   "source": [
    "dic.get(1117)"
   ]
  },
  {
   "cell_type": "code",
   "execution_count": 79,
   "id": "f5c9fd97",
   "metadata": {},
   "outputs": [
    {
     "data": {
      "text/plain": [
       "25"
      ]
     },
     "execution_count": 79,
     "metadata": {},
     "output_type": "execute_result"
    }
   ],
   "source": [
    "dic.get(1116)"
   ]
  },
  {
   "cell_type": "markdown",
   "id": "9ac5229b",
   "metadata": {},
   "source": [
    "# queation.02"
   ]
  },
  {
   "cell_type": "code",
   "execution_count": 20,
   "id": "02d1397f",
   "metadata": {},
   "outputs": [],
   "source": [
    "comm = { 'chair' : 10, 'table' : 22, 'sofa-set': 2, 'tv-unit': 0, 'fan': 10, \n",
    "        'table-lamp': 0, 'iron-box': 0, 'bed': 30 }"
   ]
  },
  {
   "cell_type": "code",
   "execution_count": 21,
   "id": "6a91edfd",
   "metadata": {},
   "outputs": [],
   "source": [
    "price = { 'chair': 2365, 'table': 37752, 'sofa-set': 23299, 'tv-unit': 120344, 'bed': 40226 }"
   ]
  },
  {
   "cell_type": "code",
   "execution_count": null,
   "id": "59ae9d8b",
   "metadata": {},
   "outputs": [
    {
     "name": "stdout",
     "output_type": "stream",
     "text": [
      "Plz Enter What You Need: chair\n",
      "Plz Enter The Quantity:   4\n",
      "Commoditiy Found\n",
      "In-Stock & Available\n",
      "Now Cash is:  9460\n",
      "dict_items([('chair', 6), ('table', 22), ('sofa-set', 2), ('tv-unit', 0), ('fan', 10), ('table-lamp', 0), ('iron-box', 0), ('bed', 30)])\n",
      "Plz Enter What You Need: table\n",
      "Plz Enter The Quantity:   5\n",
      "Commoditiy Found\n",
      "In-Stock & Available\n",
      "Now Cash is:  198220\n",
      "dict_items([('chair', 6), ('table', 17), ('sofa-set', 2), ('tv-unit', 0), ('fan', 10), ('table-lamp', 0), ('iron-box', 0), ('bed', 30)])\n"
     ]
    }
   ],
   "source": [
    "cash = 0\n",
    "\n",
    "while True:\n",
    "    entered_commodity = input(\"Plz Enter What You Need: \")\n",
    "    if entered_commodity == \"quit\": \n",
    "        print(\"Thank You For Shopping!\")\n",
    "        break\n",
    "    \n",
    "    quantity = int(input(\"Plz Enter The Quantity:   \"))\n",
    "    if entered_commodity in comm.keys():\n",
    "        print(\"Commoditiy Found\")\n",
    "        if comm[entered_commodity]>0 and quantity<=comm[entered_commodity]:\n",
    "            print(\"In-Stock & Available\")\n",
    "            cash = cash + (price[entered_commodity] * quantity)\n",
    "            print(\"Now Cash is: \", cash)\n",
    "            comm[entered_commodity] = comm[entered_commodity] - quantity\n",
    "            print(comm.items())\n",
    "\n",
    "        else:\n",
    "            print(\"Sorry, Out Of Stock OR the Quantity is More than The Available Stock.\")\n",
    "        \n",
    "    else:\n",
    "        print(\"Sorry, We Do Not Have What You Want.\")"
   ]
  }
 ],
 "metadata": {
  "kernelspec": {
   "display_name": "Python 3 (ipykernel)",
   "language": "python",
   "name": "python3"
  },
  "language_info": {
   "codemirror_mode": {
    "name": "ipython",
    "version": 3
   },
   "file_extension": ".py",
   "mimetype": "text/x-python",
   "name": "python",
   "nbconvert_exporter": "python",
   "pygments_lexer": "ipython3",
   "version": "3.9.7"
  }
 },
 "nbformat": 4,
 "nbformat_minor": 5
}
