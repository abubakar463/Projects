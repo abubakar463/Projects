{
 "cells": [
  {
   "cell_type": "markdown",
   "id": "bf389aab",
   "metadata": {},
   "source": [
    "# Q.01"
   ]
  },
  {
   "cell_type": "code",
   "execution_count": 5,
   "id": "1189e81a",
   "metadata": {},
   "outputs": [
    {
     "data": {
      "text/plain": [
       "31"
      ]
     },
     "execution_count": 5,
     "metadata": {},
     "output_type": "execute_result"
    }
   ],
   "source": [
    "s=\"I am studying hard to learn AI and BD\"\n",
    "s.find(\"studying\")\n",
    "s.find('learn')\n",
    "s.find('and')"
   ]
  },
  {
   "cell_type": "code",
   "execution_count": 3,
   "id": "7be0b554",
   "metadata": {},
   "outputs": [
    {
     "data": {
      "text/plain": [
       "' studying learn and'"
      ]
     },
     "execution_count": 3,
     "metadata": {},
     "output_type": "execute_result"
    }
   ],
   "source": [
    "s[4:13]+s[21:27]+s[30:34]"
   ]
  },
  {
   "cell_type": "markdown",
   "id": "4fced767",
   "metadata": {},
   "source": [
    "# Q.02"
   ]
  },
  {
   "cell_type": "code",
   "execution_count": null,
   "id": "c6c4211b",
   "metadata": {},
   "outputs": [],
   "source": [
    "kg = int(input('enter value in kg:'))\n",
    "# a=float(kg)\n",
    "pound=kg*2.2046\n",
    "print('kg in pound:')\n",
    "print(pound)"
   ]
  },
  {
   "cell_type": "markdown",
   "id": "326d03e4",
   "metadata": {},
   "source": [
    "# Q.03"
   ]
  },
  {
   "cell_type": "code",
   "execution_count": null,
   "id": "1ac30fc7",
   "metadata": {},
   "outputs": [],
   "source": [
    "marks=int(input('enter your marks:'))\n",
    "if marks>=50:\n",
    "    print('pass in exam')\n",
    "else:print('you are fail in exam')"
   ]
  },
  {
   "cell_type": "markdown",
   "id": "93896661",
   "metadata": {},
   "source": [
    "# Q.04"
   ]
  },
  {
   "cell_type": "code",
   "execution_count": null,
   "id": "b8f54f3b",
   "metadata": {},
   "outputs": [],
   "source": [
    "weight=int(input('enter your weight:'))\n",
    "MBI=int(input('enter MBI:'))\n",
    "hei=int(input('enter your height:'))\n",
    "M = input(\"married or single: \")\n",
    "if weight>50 and weight>100 and MBI>=10 and MBI<=20 and hei>5 and M == \"Married\":\n",
    "    print(\"Selected!\")\n",
    "elif weight>=50 and weight<=100 and MBI>=10 and MBI>20 and hei>5 and M==\"Married\":\n",
    "    print('Selected!')\n",
    "elif weight>=50 and weight<=100 and MBI>=10 and MBI<=20 and hei<5 and M=='Married':\n",
    "    print('selected!')\n",
    "elif weight>=50 and weight<=100 and MBI>=10 and MBI<=20 and hei>5:\n",
    "    print(\"Seleced!\")\n",
    "else:\n",
    "    print(\"Not Selected!\")\n"
   ]
  },
  {
   "cell_type": "markdown",
   "id": "0fe3cc3f",
   "metadata": {},
   "source": [
    "# Q.05"
   ]
  },
  {
   "cell_type": "code",
   "execution_count": null,
   "id": "0136756c",
   "metadata": {},
   "outputs": [],
   "source": [
    "name=['Abdullah', 'Tayyaba', 'Waheed', 'Fatima', 'Basim', 'Hira']\n",
    "male=[]\n",
    "female=[]\n",
    "for i in range(len(name)):\n",
    "    if i%2==0:\n",
    "        male.append(name[i])\n",
    "    else:\n",
    "        female.append(name[i])\n",
    "print(male)\n",
    "print(female)\n",
    "    \n",
    "\n",
    "    "
   ]
  },
  {
   "cell_type": "markdown",
   "id": "358a462b",
   "metadata": {},
   "source": [
    "# Q.06"
   ]
  },
  {
   "cell_type": "code",
   "execution_count": null,
   "id": "aac23f92",
   "metadata": {},
   "outputs": [],
   "source": [
    "string= {\"hasan\", \"ahmad\", \"bilal\", \"goreyo\", \"tokeyo\", \"multan\", \"fatima\", \"yasmin\"}\n",
    "a=list(string)\n",
    "print(a)"
   ]
  },
  {
   "cell_type": "code",
   "execution_count": null,
   "id": "88aa5b69",
   "metadata": {},
   "outputs": [],
   "source": [
    "b = a[-3:]\n",
    "c = a[:5]\n",
    "print(\"have same number of chr\",b)\n",
    "print(\"have same number of chr\",c)"
   ]
  },
  {
   "cell_type": "markdown",
   "id": "7b5f3479",
   "metadata": {},
   "source": [
    "# Q.07"
   ]
  },
  {
   "cell_type": "code",
   "execution_count": null,
   "id": "f23a7c6b",
   "metadata": {},
   "outputs": [],
   "source": [
    "while True:\n",
    "    choice=input('prese 1 to put enter the data and 2 for reterive and done for break ')\n",
    "    if choice=='1':\n",
    "        roll_num=int(input('enter your roll number:'))\n",
    "        urdu=int(input('enter your urdu number:'))\n",
    "        english=int(input('enter your english number:'))\n",
    "        python=int(input('enter your python number:'))\n",
    "#         after input we creat a single record\n",
    "        record={roll_num:{'roll_number':roll_num,'urdu':urdu,'english':english,'python':python}}\n",
    "#         Now we are able to creat a file\n",
    "        file=open('bakar.text','a')\n",
    "        file.write(str(record)+'\\n')\n",
    "        file.close()\n",
    "#         when choice is done\n",
    "    elif choice=='done':\n",
    "        print('ALLAH HAFIZ')\n",
    "        break\n",
    "#         when we access the of particular student\n",
    "    elif choice=='2':\n",
    "        file=open('bakar.text','r')\n",
    "        a=file.readlines()\n",
    "        file.close()\n",
    "        roll_num = input('enter roll number')\n",
    "        for record in a:\n",
    "            record=eval(record)\n",
    "            if roll_num in record.keys():\n",
    "                data=record[roll_num.values()]\n",
    "                print(data)\n",
    "    else:print('worang input!')           \n",
    "        "
   ]
  },
  {
   "cell_type": "code",
   "execution_count": null,
   "id": "9a7505dc",
   "metadata": {},
   "outputs": [],
   "source": []
  }
 ],
 "metadata": {
  "kernelspec": {
   "display_name": "Python 3 (ipykernel)",
   "language": "python",
   "name": "python3"
  },
  "language_info": {
   "codemirror_mode": {
    "name": "ipython",
    "version": 3
   },
   "file_extension": ".py",
   "mimetype": "text/x-python",
   "name": "python",
   "nbconvert_exporter": "python",
   "pygments_lexer": "ipython3",
   "version": "3.9.7"
  }
 },
 "nbformat": 4,
 "nbformat_minor": 5
}
