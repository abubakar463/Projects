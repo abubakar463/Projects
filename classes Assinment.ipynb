{
 "cells": [
  {
   "cell_type": "markdown",
   "id": "54159500",
   "metadata": {},
   "source": [
    "# Q.1`"
   ]
  },
  {
   "cell_type": "markdown",
   "id": "29d5ec29",
   "metadata": {},
   "source": [
    "# Classes"
   ]
  },
  {
   "cell_type": "markdown",
   "id": "beb50b6f",
   "metadata": {},
   "source": [
    "## Door"
   ]
  },
  {
   "cell_type": "code",
   "execution_count": null,
   "id": "c3c4017c",
   "metadata": {},
   "outputs": [],
   "source": [
    "class door:\n",
    "    def __init__(self,w,h,p,c):\n",
    "# here __init__ is our magic function.\n",
    "        self.width=w\n",
    "        self.height=h\n",
    "        self.position=p\n",
    "        self.colour=c\n",
    "    def open_(self):\n",
    "        if  self.position==0:\n",
    "            self.position=90\n",
    "            print('the door is open')\n",
    "    def close_(self):\n",
    "        if self.position==90:\n",
    "            self.position=0\n",
    "            print('the door is close')\n",
    "            \n",
    "   "
   ]
  },
  {
   "cell_type": "code",
   "execution_count": null,
   "id": "b4b71d59",
   "metadata": {},
   "outputs": [],
   "source": [
    "front_d=door(4,12,0,'white')"
   ]
  },
  {
   "cell_type": "code",
   "execution_count": null,
   "id": "2ce77c5b",
   "metadata": {},
   "outputs": [],
   "source": [
    "front_d.open_()"
   ]
  },
  {
   "cell_type": "code",
   "execution_count": null,
   "id": "05be4603",
   "metadata": {},
   "outputs": [],
   "source": [
    "front_d.position"
   ]
  },
  {
   "cell_type": "code",
   "execution_count": null,
   "id": "2bbeae76",
   "metadata": {},
   "outputs": [],
   "source": [
    "front_d.close_()"
   ]
  },
  {
   "cell_type": "code",
   "execution_count": null,
   "id": "db7c56a9",
   "metadata": {},
   "outputs": [],
   "source": [
    "front_d.position"
   ]
  },
  {
   "cell_type": "code",
   "execution_count": null,
   "id": "e49a065e",
   "metadata": {},
   "outputs": [],
   "source": [
    "front_d.colour"
   ]
  },
  {
   "cell_type": "code",
   "execution_count": null,
   "id": "0e38dd2c",
   "metadata": {},
   "outputs": [],
   "source": [
    "front_d.width"
   ]
  },
  {
   "cell_type": "markdown",
   "id": "4539af7b",
   "metadata": {},
   "source": [
    "## Marker"
   ]
  },
  {
   "cell_type": "code",
   "execution_count": null,
   "id": "61077495",
   "metadata": {},
   "outputs": [],
   "source": [
    "class marker:\n",
    "    def __init__(self,w,h,c,i):\n",
    "        self.width=w\n",
    "        self.height=h\n",
    "        self.colour=c\n",
    "        self.ink=False\n",
    "        self.cap=False\n",
    "    def open_(self):\n",
    "        if self.cap==False:\n",
    "            self.cap=True\n",
    "            print('marker is open')\n",
    "    def close_(self):\n",
    "        if self.cap==True:\n",
    "            self.cap=False              \n",
    "            print('marker is close')\n",
    "    def inkful_(self):\n",
    "        if self.ink==False:\n",
    "            self.ink=True\n",
    "            print('ink level heigh')\n",
    "    def inkfinish_(self):\n",
    "        if self.ink==True:\n",
    "            self.ink=False\n",
    "            print('ink level is low')\n",
    "                "
   ]
  },
  {
   "cell_type": "code",
   "execution_count": null,
   "id": "d794adf6",
   "metadata": {},
   "outputs": [],
   "source": [
    "mar=marker(10,12,'black','blue')"
   ]
  },
  {
   "cell_type": "code",
   "execution_count": null,
   "id": "eff57203",
   "metadata": {},
   "outputs": [],
   "source": [
    "mar.width"
   ]
  },
  {
   "cell_type": "code",
   "execution_count": null,
   "id": "b4bd297b",
   "metadata": {},
   "outputs": [],
   "source": [
    "mar.colour"
   ]
  },
  {
   "cell_type": "code",
   "execution_count": null,
   "id": "224dcec0",
   "metadata": {},
   "outputs": [],
   "source": [
    "mar.height"
   ]
  },
  {
   "cell_type": "code",
   "execution_count": null,
   "id": "96d55a1d",
   "metadata": {},
   "outputs": [],
   "source": [
    "mar.ink"
   ]
  },
  {
   "cell_type": "code",
   "execution_count": null,
   "id": "f193c4c1",
   "metadata": {},
   "outputs": [],
   "source": [
    "mar.open_()"
   ]
  },
  {
   "cell_type": "code",
   "execution_count": null,
   "id": "78a25fee",
   "metadata": {},
   "outputs": [],
   "source": [
    "mar.close_()"
   ]
  },
  {
   "cell_type": "code",
   "execution_count": null,
   "id": "1c82c0b7",
   "metadata": {},
   "outputs": [],
   "source": [
    "mar.inkful_()"
   ]
  },
  {
   "cell_type": "code",
   "execution_count": null,
   "id": "e78f015e",
   "metadata": {},
   "outputs": [],
   "source": [
    "mar.inkfinish_()"
   ]
  },
  {
   "cell_type": "markdown",
   "id": "ddfe19b6",
   "metadata": {},
   "source": [
    "## CAR"
   ]
  },
  {
   "cell_type": "code",
   "execution_count": null,
   "id": "5aac09f6",
   "metadata": {},
   "outputs": [],
   "source": [
    "class Car:\n",
    "    def __init__(self,c,t,g,n,r,l):\n",
    "        self.colour=c\n",
    "        self.tire=t\n",
    "        self.gate=g\n",
    "        self.nutural=True\n",
    "        self.staringright=r\n",
    "        self.staringleft=l\n",
    "        self.backword=False\n",
    "    def stop_(self):\n",
    "        if self.nutural==True:\n",
    "            self.nutural=False\n",
    "            print('car is stop')\n",
    "   \n",
    "    def backword_(self):\n",
    "        if self.backword==False:\n",
    "            self.backword=True\n",
    "            print('car is moving backword')\n",
    "    def frantword_(self):\n",
    "        if self.backword==True:\n",
    "            self.backword=False\n",
    "            print('car is moving frantword')\n",
    "    def left_(self):\n",
    "        if self.nutural==true:\n",
    "            self.staringright=0\n",
    "            print('car is moving right')\n",
    "    def right_(self):\n",
    "        if self.nutural==true:\n",
    "            slef.staringleft=180\n",
    "            print('car is moving left')\n",
    "            \n",
    "           "
   ]
  },
  {
   "cell_type": "code",
   "execution_count": null,
   "id": "3c0a37ee",
   "metadata": {},
   "outputs": [],
   "source": [
    "cr=Car('black',4,4,n=True,r=0,l=180)"
   ]
  },
  {
   "cell_type": "code",
   "execution_count": null,
   "id": "11b18215",
   "metadata": {},
   "outputs": [],
   "source": [
    "cr.backword_()"
   ]
  },
  {
   "cell_type": "code",
   "execution_count": null,
   "id": "5a59acc7",
   "metadata": {},
   "outputs": [],
   "source": [
    "cr.frantword_()"
   ]
  },
  {
   "cell_type": "code",
   "execution_count": null,
   "id": "7abd86f9",
   "metadata": {},
   "outputs": [],
   "source": [
    "cr.staringleft"
   ]
  },
  {
   "cell_type": "code",
   "execution_count": null,
   "id": "a9bc4092",
   "metadata": {},
   "outputs": [],
   "source": [
    "cr.staringright"
   ]
  },
  {
   "cell_type": "code",
   "execution_count": null,
   "id": "6e5326f0",
   "metadata": {},
   "outputs": [],
   "source": [
    "cr.nutural"
   ]
  },
  {
   "cell_type": "markdown",
   "id": "5af834a4",
   "metadata": {},
   "source": [
    "## FAN"
   ]
  },
  {
   "cell_type": "code",
   "execution_count": null,
   "id": "36ca0a77",
   "metadata": {},
   "outputs": [],
   "source": [
    "class Fan:\n",
    "    def __init__(self,c,k,s,w):\n",
    "        self.colour=c\n",
    "        self.kampony=k\n",
    "        self.state=False\n",
    "        self.wind=w\n",
    "    def is_on(self):\n",
    "        if self.state==False:\n",
    "            self.state=True\n",
    "            print('Fan is on.')\n",
    "    def is_off(self):\n",
    "        if self.state==True:\n",
    "            self.state=False\n",
    "            print('Fan is off!')\n",
    "    def is_wind(self):\n",
    "        if self.state==True:\n",
    "            print('Wind is come.')\n",
    "        else:print('Wind is not come!')\n",
    "            \n",
    "        "
   ]
  },
  {
   "cell_type": "code",
   "execution_count": null,
   "id": "425c477a",
   "metadata": {},
   "outputs": [],
   "source": [
    "F=Fan('white','PAK FAN',s=False,w=True)"
   ]
  },
  {
   "cell_type": "code",
   "execution_count": null,
   "id": "86df056f",
   "metadata": {},
   "outputs": [],
   "source": [
    "F.is_on()"
   ]
  },
  {
   "cell_type": "code",
   "execution_count": null,
   "id": "19da08e3",
   "metadata": {},
   "outputs": [],
   "source": [
    "F.is_wind()"
   ]
  },
  {
   "cell_type": "code",
   "execution_count": null,
   "id": "313910fe",
   "metadata": {},
   "outputs": [],
   "source": [
    "F.is_off()"
   ]
  },
  {
   "cell_type": "code",
   "execution_count": null,
   "id": "9bc7f4bc",
   "metadata": {},
   "outputs": [],
   "source": [
    "F.is_wind()"
   ]
  },
  {
   "cell_type": "markdown",
   "id": "0fd8053c",
   "metadata": {},
   "source": [
    "## Glasses"
   ]
  },
  {
   "cell_type": "code",
   "execution_count": null,
   "id": "0fcc0ab3",
   "metadata": {},
   "outputs": [],
   "source": [
    "class Glasses:\n",
    "    def __init__(self,c,m,p):\n",
    "        self.coulur=c\n",
    "        self.mirror=m\n",
    "        self.position=p\n",
    "    def is_open(self):\n",
    "        if self.position==0:\n",
    "            self.position=90\n",
    "            print('Glasses is open')\n",
    "    def is_close(self):\n",
    "        if self.position==90:\n",
    "            self.position=0\n",
    "            print('Glasses is close')\n",
    "    def is_wear(self):\n",
    "        if self.position==90:\n",
    "            print('___Glasses is weared____')\n",
    "        else:print('Glasses is not weared!!!!')\n",
    "        "
   ]
  },
  {
   "cell_type": "code",
   "execution_count": null,
   "id": "1acb5817",
   "metadata": {},
   "outputs": [],
   "source": [
    "Gla=Glasses('Golden',2,p=0)"
   ]
  },
  {
   "cell_type": "code",
   "execution_count": null,
   "id": "928b64ec",
   "metadata": {},
   "outputs": [],
   "source": [
    "Gla.is_open()"
   ]
  },
  {
   "cell_type": "code",
   "execution_count": null,
   "id": "a06c3f5e",
   "metadata": {},
   "outputs": [],
   "source": [
    "Gla.is_wear()"
   ]
  },
  {
   "cell_type": "code",
   "execution_count": null,
   "id": "af6852f8",
   "metadata": {},
   "outputs": [],
   "source": [
    "Gla.is_close()"
   ]
  },
  {
   "cell_type": "code",
   "execution_count": null,
   "id": "e6400276",
   "metadata": {},
   "outputs": [],
   "source": [
    "Gla.is_wear()"
   ]
  },
  {
   "cell_type": "markdown",
   "id": "0c733953",
   "metadata": {},
   "source": [
    "# Activity 2:"
   ]
  },
  {
   "cell_type": "markdown",
   "id": "ec6317a8",
   "metadata": {},
   "source": [
    "# Q.1"
   ]
  },
  {
   "cell_type": "code",
   "execution_count": null,
   "id": "edd0afb4",
   "metadata": {},
   "outputs": [],
   "source": [
    "import time\n",
    "class cake:\n",
    "    def __init__(self,floor, egg, sugar, milk, baking_soda):\n",
    "        self.floor = floor\n",
    "        self.egg = egg\n",
    "        self.sugar = sugar\n",
    "        self.milk = milk\n",
    "        self.baking_soda = baking_soda\n",
    "        self.temperature = 25\n",
    "        self.is_mixed = False\n",
    "        self.is_baked = False\n",
    "        self.is_beating = False\n",
    "        \n",
    "    def beat_eggs_whites(self):\n",
    "        for i in range(5):\n",
    "            print(\"Egg is beating!\")\n",
    "            time.sleep(1)\n",
    "        self.is_beating = True\n",
    "        print(\"its formy\")\n",
    "        \n",
    "    def mix(self):\n",
    "        if self.is_mixed == False and self.is_beating == True:\n",
    "            self.is_mixed = True\n",
    "            print(\"It mixed\")\n",
    "        else:\n",
    "            print(\"Already mixed or firstly beat the eggs\")\n",
    "    def baked(self):\n",
    "        if self.is_mixed == True:\n",
    "            self.is_baked == True\n",
    "            while self.temperature < 250:\n",
    "                self.temperature += 25\n",
    "                print(self.temperature)\n",
    "                time.sleep(1)\n",
    "            print(\"Cake is baked\")\n",
    "        "
   ]
  },
  {
   "cell_type": "code",
   "execution_count": null,
   "id": "ed85db37",
   "metadata": {},
   "outputs": [],
   "source": [
    "c1= cake(\"2\",\"10\",\"3\",\"4\",\"1\")"
   ]
  },
  {
   "cell_type": "code",
   "execution_count": null,
   "id": "d5f672f2",
   "metadata": {},
   "outputs": [],
   "source": [
    "c1.beat_eggs_whites()"
   ]
  },
  {
   "cell_type": "code",
   "execution_count": null,
   "id": "adc871ad",
   "metadata": {},
   "outputs": [],
   "source": [
    "c1.mix()"
   ]
  },
  {
   "cell_type": "code",
   "execution_count": null,
   "id": "902639cf",
   "metadata": {},
   "outputs": [],
   "source": [
    "c1.baked()"
   ]
  },
  {
   "cell_type": "code",
   "execution_count": null,
   "id": "19192eb8",
   "metadata": {},
   "outputs": [],
   "source": [
    "class cream_cake(cake):\n",
    "    def __init__(self,cream,floor, egg, sugar, milk, baking_soda):\n",
    "        cake.__init__(self,floor, egg, sugar, milk, baking_soda)\n",
    "        self.cream=cream\n",
    "        self.is_cream=False\n",
    "        \n",
    "        \n",
    "    def add_cream(self):\n",
    "        self.is_cream==False\n",
    "        self.is_cream=True\n",
    "        print('cream cake is ready')\n",
    "        "
   ]
  },
  {
   "cell_type": "code",
   "execution_count": null,
   "id": "6b77003d",
   "metadata": {},
   "outputs": [],
   "source": [
    "cream=cream_cake('2',\"2\",\"10\",\"3\",\"4\",\"1\")"
   ]
  },
  {
   "cell_type": "code",
   "execution_count": null,
   "id": "2f710b30",
   "metadata": {},
   "outputs": [],
   "source": [
    "cream.add_cream()"
   ]
  },
  {
   "cell_type": "code",
   "execution_count": null,
   "id": "3dae145b",
   "metadata": {},
   "outputs": [],
   "source": [
    "class cream_charry_cake(cream_cake):\n",
    "    def __init__(self,charry,cream,floor, egg, sugar, milk, baking_soda):\n",
    "        cream_cake.__init__(self,cream,floor, egg, sugar, milk, baking_soda)\n",
    "        self.charry=charry\n",
    "        self.is_charry=False\n",
    "    def charry_cake(self):\n",
    "        if self.is_charry==False:\n",
    "            self.is_charry=True\n",
    "            print('cream_charry_cake is ready')\n",
    "        else:('add cream first befor creat charry craem_cake')\n",
    "        "
   ]
  },
  {
   "cell_type": "code",
   "execution_count": null,
   "id": "ca01cae3",
   "metadata": {},
   "outputs": [],
   "source": [
    "c2=cream_charry_cake('10','2',\"2\",\"10\",\"3\",\"4\",\"1\")"
   ]
  },
  {
   "cell_type": "code",
   "execution_count": null,
   "id": "ef751a8e",
   "metadata": {},
   "outputs": [],
   "source": [
    "c2.charry_cake()"
   ]
  },
  {
   "cell_type": "code",
   "execution_count": null,
   "id": "0715b29c",
   "metadata": {},
   "outputs": [],
   "source": [
    "c2.add_cream()"
   ]
  },
  {
   "cell_type": "code",
   "execution_count": null,
   "id": "cafece2a",
   "metadata": {},
   "outputs": [],
   "source": [
    "class choclate_cream_charry_cake(cream_charry_cake):\n",
    "    def __init__(self,choclate,charry,cream,floor, egg, sugar, milk, baking_soda):\n",
    "        cream_charry_cake.__init__(self,charry,cream,floor, egg, sugar, milk, baking_soda)\n",
    "        self.choclate=choclate\n",
    "        self.is_choclate=False\n",
    "    \n",
    "    def add_choclate(self):\n",
    "        if self.is_choclate==False:\n",
    "            self.is_choclate=True\n",
    "            print('choclate_cream_charry_cake is ready')\n",
    "        else:print('first add charry befor creat choclate cake')"
   ]
  },
  {
   "cell_type": "code",
   "execution_count": null,
   "id": "98e694ae",
   "metadata": {},
   "outputs": [],
   "source": [
    "cho=choclate_cream_charry_cake('3','10','2',\"2\",\"10\",\"3\",\"4\",\"1\")"
   ]
  },
  {
   "cell_type": "code",
   "execution_count": null,
   "id": "cd923ce6",
   "metadata": {},
   "outputs": [],
   "source": [
    "cho.add_choclate()"
   ]
  },
  {
   "cell_type": "markdown",
   "id": "dd6713e6",
   "metadata": {},
   "source": [
    "# Q.02"
   ]
  },
  {
   "cell_type": "markdown",
   "id": "80051890",
   "metadata": {},
   "source": [
    "# Animal inheritence:"
   ]
  },
  {
   "cell_type": "code",
   "execution_count": null,
   "id": "a100a558",
   "metadata": {},
   "outputs": [],
   "source": [
    "class Animal:\n",
    "    def __init__(self,food,water):\n",
    "        self.food=food\n",
    "        self.water=water\n",
    "        self.is_alive=False\n",
    "        self.is_drink=False\n",
    "        self.is_eat=False\n",
    "    def alive(self):\n",
    "        if self.is_alive==False:\n",
    "            self.is_alive=True\n",
    "            print('animal alive')\n",
    "    def drink(self):\n",
    "        if self.is_alive==True:\n",
    "            self.is_drink=True\n",
    "            print('animal is able to drink')\n",
    "    def eat(self):\n",
    "        if self.is_alive==True:\n",
    "            self.is_eat==True\n",
    "            print('animal is able to eat')\n",
    "        \n",
    "       "
   ]
  },
  {
   "cell_type": "code",
   "execution_count": null,
   "id": "ef0afce8",
   "metadata": {},
   "outputs": [],
   "source": [
    "k=Animal('meat','soda')"
   ]
  },
  {
   "cell_type": "code",
   "execution_count": null,
   "id": "7b58ec4f",
   "metadata": {},
   "outputs": [],
   "source": [
    "k.alive()"
   ]
  },
  {
   "cell_type": "code",
   "execution_count": null,
   "id": "0350f1ba",
   "metadata": {},
   "outputs": [],
   "source": [
    "k.drink()"
   ]
  },
  {
   "cell_type": "code",
   "execution_count": null,
   "id": "40017f94",
   "metadata": {},
   "outputs": [],
   "source": [
    "k.eat()"
   ]
  },
  {
   "cell_type": "code",
   "execution_count": null,
   "id": "63dd4d8e",
   "metadata": {},
   "outputs": [],
   "source": [
    "# inharit Harbivorous!!!!\n",
    "class Harbivorous(Animal):\n",
    "    def __init__(self,grass,food,water):\n",
    "        Animal.__init__(self,food,water)\n",
    "        self.grass=grass\n",
    "        self.is_grass=False\n",
    "        \n",
    "    def eat(self):\n",
    "        s=str(Animal.eat(self))\n",
    "        return 'animal eat grass'\n",
    "        "
   ]
  },
  {
   "cell_type": "code",
   "execution_count": null,
   "id": "43640d31",
   "metadata": {},
   "outputs": [],
   "source": [
    "k1=Harbivorous('grass','meat','soda')"
   ]
  },
  {
   "cell_type": "code",
   "execution_count": null,
   "id": "f5101835",
   "metadata": {},
   "outputs": [],
   "source": [
    "k1.eat()"
   ]
  },
  {
   "cell_type": "code",
   "execution_count": null,
   "id": "e9b7c592",
   "metadata": {},
   "outputs": [],
   "source": [
    "k1.alive()"
   ]
  },
  {
   "cell_type": "code",
   "execution_count": null,
   "id": "e8eb87b5",
   "metadata": {},
   "outputs": [],
   "source": [
    "k1.eat()"
   ]
  },
  {
   "cell_type": "code",
   "execution_count": null,
   "id": "15f88489",
   "metadata": {},
   "outputs": [],
   "source": [
    "class Cow(Harbivorous):\n",
    "    def __init__(self,milk,grass,food,water):\n",
    "        Harbivorous.__init__(self,grass,food,water)\n",
    "        \n",
    "        self.milk=milk\n",
    "        self.is_milk=False\n",
    "    def Milk(self):\n",
    "        if self.is_milk==False:\n",
    "            self.is_milk=True\n",
    "            print('cow gives milk')\n",
    "        "
   ]
  },
  {
   "cell_type": "code",
   "execution_count": null,
   "id": "1f4bf049",
   "metadata": {},
   "outputs": [],
   "source": [
    "k2=Cow('milk','grass','meat','soda')"
   ]
  },
  {
   "cell_type": "code",
   "execution_count": null,
   "id": "00b24006",
   "metadata": {},
   "outputs": [],
   "source": [
    "k2.Milk()"
   ]
  },
  {
   "cell_type": "code",
   "execution_count": null,
   "id": "b1f3be0d",
   "metadata": {},
   "outputs": [],
   "source": [
    "k2.eat()"
   ]
  },
  {
   "cell_type": "code",
   "execution_count": null,
   "id": "10c85b55",
   "metadata": {},
   "outputs": [],
   "source": [
    "class Shiwal_cow(Cow):\n",
    "    def __init__(self,extra_milk,milk,grass,food,water):\n",
    "         Cow.__init__(self,milk,grass,food,water)\n",
    "        \n",
    "         self.extra_milk=extra_milk\n",
    "    def Milk(self):\n",
    "        s=str(Cow.Milk(self))\n",
    "        return s+' cow gives extra_milk'\n",
    "        \n",
    "       \n",
    "        "
   ]
  },
  {
   "cell_type": "code",
   "execution_count": null,
   "id": "b3c4cb0d",
   "metadata": {},
   "outputs": [],
   "source": [
    "k3=Shiwal_cow('extra_milk','milk','grass','meat','soda')"
   ]
  },
  {
   "cell_type": "code",
   "execution_count": null,
   "id": "2432b7f3",
   "metadata": {},
   "outputs": [],
   "source": [
    "k3.Milk()"
   ]
  },
  {
   "cell_type": "code",
   "execution_count": null,
   "id": "ab8a7c5a",
   "metadata": {},
   "outputs": [],
   "source": []
  },
  {
   "cell_type": "code",
   "execution_count": null,
   "id": "8364a95c",
   "metadata": {},
   "outputs": [],
   "source": [
    "\n",
    "        "
   ]
  },
  {
   "cell_type": "code",
   "execution_count": null,
   "id": "b75bf2b0",
   "metadata": {},
   "outputs": [],
   "source": [
    "class Animal:\n",
    "    def __init__(self,food,water):\n",
    "        self.food=food\n",
    "        self.water=water\n",
    "        self.is_alive=False\n",
    "        self.is_drink=False\n",
    "        self.is_eat=False\n",
    "    def alive(self):\n",
    "        if self.is_alive==False:\n",
    "            self.is_alive=True\n",
    "            print('animal alive')\n",
    "    def drink(self):\n",
    "        if self.is_alive==True:\n",
    "            self.is_drink=True\n",
    "            print('animal is able to drink')\n",
    "    def eat(self):\n",
    "        if self.is_alive==True:\n",
    "            self.is_eat==True\n",
    "            print('animal is able to eat')\n",
    "        \n",
    "       "
   ]
  },
  {
   "cell_type": "code",
   "execution_count": null,
   "id": "90d24bc0",
   "metadata": {},
   "outputs": [],
   "source": [
    "k=Animal('meat','soda')"
   ]
  },
  {
   "cell_type": "code",
   "execution_count": null,
   "id": "9486091c",
   "metadata": {},
   "outputs": [],
   "source": [
    "k.alive()"
   ]
  },
  {
   "cell_type": "code",
   "execution_count": null,
   "id": "cefd513c",
   "metadata": {},
   "outputs": [],
   "source": [
    "k.eat()"
   ]
  },
  {
   "cell_type": "code",
   "execution_count": null,
   "id": "1ad2bd53",
   "metadata": {},
   "outputs": [],
   "source": [
    "# Class Carnivorous:\n",
    "class Carnivorous(Animal):\n",
    "    def __init__(self,meat,food,water):\n",
    "        Animal.__init__(self,food,water)\n",
    "        self.meat=meat\n",
    "        \n",
    "        \n",
    "        \n",
    "    def eat(self):\n",
    "        s=str(Animal.eat(self))\n",
    "        return 'eats meat'"
   ]
  },
  {
   "cell_type": "code",
   "execution_count": null,
   "id": "9644419f",
   "metadata": {},
   "outputs": [],
   "source": [
    "c1=Carnivorous('meat','meat','soda')"
   ]
  },
  {
   "cell_type": "code",
   "execution_count": null,
   "id": "061c364a",
   "metadata": {},
   "outputs": [],
   "source": [
    "c1.eat()"
   ]
  },
  {
   "cell_type": "code",
   "execution_count": null,
   "id": "2ac16676",
   "metadata": {},
   "outputs": [],
   "source": [
    "c1.alive()"
   ]
  },
  {
   "cell_type": "code",
   "execution_count": null,
   "id": "479f21e4",
   "metadata": {},
   "outputs": [],
   "source": [
    "class Shark(Carnivorous):\n",
    "    def __init__(self,less_eat,meat,food,water):\n",
    "        Carnivorous.__init__(self,meat,food,water)\n",
    "        \n",
    "        self.less_eat=less_eat\n",
    "        \n",
    "    def eat(self):\n",
    "        r=Carnivorous.eat(self)\n",
    "        return 'eats small_fishes'"
   ]
  },
  {
   "cell_type": "code",
   "execution_count": null,
   "id": "59e13d31",
   "metadata": {},
   "outputs": [],
   "source": [
    "s1=Shark('small_fishes','meat','meat','soda')"
   ]
  },
  {
   "cell_type": "code",
   "execution_count": null,
   "id": "dc76ee33",
   "metadata": {},
   "outputs": [],
   "source": [
    "s1.eat()"
   ]
  },
  {
   "cell_type": "code",
   "execution_count": null,
   "id": "f94ca4f0",
   "metadata": {},
   "outputs": [],
   "source": [
    "class BlueShark(Shark):\n",
    "    def __init__(self,greater_eat,less_eat,meat,food,water):\n",
    "        Shark.__init__(self,less_eat,meat,food,water)\n",
    "        \n",
    "        self.greater_eat=greater_eat\n",
    "        \n",
    "    def eat(self):\n",
    "        b=Shark.eat(self)\n",
    "        return 'BlueShark eats grater_eat'"
   ]
  },
  {
   "cell_type": "code",
   "execution_count": null,
   "id": "86bda999",
   "metadata": {},
   "outputs": [],
   "source": [
    "B=BlueShark('greater_meat','small_fishes','meat','meat','soda')"
   ]
  },
  {
   "cell_type": "code",
   "execution_count": null,
   "id": "c7e414ff",
   "metadata": {},
   "outputs": [],
   "source": [
    "B.eat()"
   ]
  },
  {
   "cell_type": "markdown",
   "id": "5a9af442",
   "metadata": {},
   "source": [
    "# Question.03"
   ]
  },
  {
   "cell_type": "code",
   "execution_count": 1,
   "id": "1b71fab7",
   "metadata": {},
   "outputs": [],
   "source": [
    "class Animal:\n",
    "    def __init__(self,food,water):\n",
    "        self.food=food\n",
    "        self.water=water\n",
    "        self.is_alive=False\n",
    "        self.is_drink=False\n",
    "        self.is_eat=False\n",
    "    def alive(self):\n",
    "        if self.is_alive==False:\n",
    "            self.is_alive=True\n",
    "            print('animal alive')\n",
    "    def drink(self):\n",
    "        if self.is_alive==True:\n",
    "            self.is_drink=True\n",
    "            print('animal is able to drink')\n",
    "    def eat(self):\n",
    "        if self.is_alive==True:\n",
    "            self.is_eat==True\n",
    "            print('animal is able to eat')\n",
    "        \n",
    "       "
   ]
  },
  {
   "cell_type": "code",
   "execution_count": 2,
   "id": "78ec8f76",
   "metadata": {},
   "outputs": [],
   "source": [
    "k=Animal('meat','soda')"
   ]
  },
  {
   "cell_type": "code",
   "execution_count": 3,
   "id": "45bbad56",
   "metadata": {},
   "outputs": [
    {
     "name": "stdout",
     "output_type": "stream",
     "text": [
      "animal alive\n"
     ]
    }
   ],
   "source": [
    "k.alive()"
   ]
  },
  {
   "cell_type": "code",
   "execution_count": 4,
   "id": "c4fc1998",
   "metadata": {},
   "outputs": [
    {
     "name": "stdout",
     "output_type": "stream",
     "text": [
      "animal is able to eat\n"
     ]
    }
   ],
   "source": [
    "k.eat()"
   ]
  },
  {
   "cell_type": "code",
   "execution_count": 20,
   "id": "ff7ea0fc",
   "metadata": {},
   "outputs": [],
   "source": [
    "# inharit Harbivorous!!!!\n",
    "class Harbivorous(Animal):\n",
    "    def __init__(self,grass,food,water):\n",
    "        Animal.__init__(self,food,water)\n",
    "        self.grass=grass\n",
    "        self.is_grass=False\n",
    "        \n",
    "    def eat(self):\n",
    "        s=str(Animal.eat(self))\n",
    "        return ' eat grass and vagitable'\n",
    "        "
   ]
  },
  {
   "cell_type": "code",
   "execution_count": 21,
   "id": "cf98e6f8",
   "metadata": {},
   "outputs": [],
   "source": [
    "k1=Harbivorous('grass','meat','soda')"
   ]
  },
  {
   "cell_type": "code",
   "execution_count": 22,
   "id": "fea68f51",
   "metadata": {},
   "outputs": [
    {
     "data": {
      "text/plain": [
       "' eat grass and vagitable'"
      ]
     },
     "execution_count": 22,
     "metadata": {},
     "output_type": "execute_result"
    }
   ],
   "source": [
    "k1.eat()"
   ]
  },
  {
   "cell_type": "code",
   "execution_count": 23,
   "id": "8cb4cc3e",
   "metadata": {},
   "outputs": [
    {
     "name": "stdout",
     "output_type": "stream",
     "text": [
      "animal alive\n"
     ]
    }
   ],
   "source": [
    "k1.alive()"
   ]
  },
  {
   "cell_type": "code",
   "execution_count": 24,
   "id": "9176d911",
   "metadata": {},
   "outputs": [
    {
     "name": "stdout",
     "output_type": "stream",
     "text": [
      "animal is able to eat\n"
     ]
    },
    {
     "data": {
      "text/plain": [
       "' eat grass and vagitable'"
      ]
     },
     "execution_count": 24,
     "metadata": {},
     "output_type": "execute_result"
    }
   ],
   "source": [
    "k1.eat()"
   ]
  },
  {
   "cell_type": "code",
   "execution_count": 33,
   "id": "77ba399b",
   "metadata": {},
   "outputs": [],
   "source": [
    "class Carnivorous(Animal):\n",
    "    def __init__(self,meat,food,water):\n",
    "        Animal.__init__(self,food,water)\n",
    "        self.meat=meat\n",
    "        self.is_eat=False\n",
    "        \n",
    "        \n",
    "    def eatan(self):\n",
    "        if self.is_eat==False:\n",
    "            self.is_eat=True\n",
    "            return 'eats meat'\n",
    "        \n",
    "        "
   ]
  },
  {
   "cell_type": "code",
   "execution_count": 34,
   "id": "0bada2bf",
   "metadata": {},
   "outputs": [],
   "source": [
    "c1=Carnivorous('meat','meat','soda')"
   ]
  },
  {
   "cell_type": "code",
   "execution_count": 37,
   "id": "5d66058d",
   "metadata": {},
   "outputs": [
    {
     "data": {
      "text/plain": [
       "'eats meat'"
      ]
     },
     "execution_count": 37,
     "metadata": {},
     "output_type": "execute_result"
    }
   ],
   "source": [
    "c1.eatan()"
   ]
  },
  {
   "cell_type": "code",
   "execution_count": 38,
   "id": "5e23ac7e",
   "metadata": {},
   "outputs": [],
   "source": [
    "c1.alive()"
   ]
  },
  {
   "cell_type": "code",
   "execution_count": 39,
   "id": "ee9be6b0",
   "metadata": {},
   "outputs": [],
   "source": [
    "class Omnivorous(Harbivorous,Carnivorous):\n",
    "    def __init__(self,grass,meat,food,water):\n",
    "        Harbivorous.__init__(self,grass,food,water)\n",
    "        Carnivorous.__init__(self,meat,food,water)\n",
    "        \n",
    "        self.mind = False\n",
    "        \n",
    "        \n",
    "    def think(self):\n",
    "        if self.mind==False:\n",
    "            self.mind=True\n",
    "            return 'Omnivorous has mind'\n",
    "   "
   ]
  },
  {
   "cell_type": "code",
   "execution_count": 40,
   "id": "6c7c209f",
   "metadata": {
    "scrolled": true
   },
   "outputs": [],
   "source": [
    "O=Omnivorous('grass','meat','meat','soda')"
   ]
  },
  {
   "cell_type": "code",
   "execution_count": 41,
   "id": "74aec5cc",
   "metadata": {},
   "outputs": [
    {
     "data": {
      "text/plain": [
       "'Omnivorous has mind'"
      ]
     },
     "execution_count": 41,
     "metadata": {},
     "output_type": "execute_result"
    }
   ],
   "source": [
    "O.think()"
   ]
  },
  {
   "cell_type": "code",
   "execution_count": 42,
   "id": "c07c4f59",
   "metadata": {},
   "outputs": [
    {
     "data": {
      "text/plain": [
       "' eat grass and vagitable'"
      ]
     },
     "execution_count": 42,
     "metadata": {},
     "output_type": "execute_result"
    }
   ],
   "source": [
    "O.eat()"
   ]
  },
  {
   "cell_type": "code",
   "execution_count": 44,
   "id": "2733f159",
   "metadata": {},
   "outputs": [
    {
     "data": {
      "text/plain": [
       "'eats meat'"
      ]
     },
     "execution_count": 44,
     "metadata": {},
     "output_type": "execute_result"
    }
   ],
   "source": [
    "O.eatan()"
   ]
  },
  {
   "cell_type": "markdown",
   "id": "8410ae22",
   "metadata": {},
   "source": [
    "# EXTRA"
   ]
  },
  {
   "cell_type": "markdown",
   "id": "edee7636",
   "metadata": {},
   "source": [
    "#### function return cancatination"
   ]
  },
  {
   "cell_type": "code",
   "execution_count": 14,
   "id": "f86b4aff",
   "metadata": {},
   "outputs": [],
   "source": [
    "class Animal:\n",
    "    def __init__(self,food,water):\n",
    "        self.food=food\n",
    "        self.water=water\n",
    "        self.is_alive=False\n",
    "        self.is_drink=False\n",
    "        self.is_eat=False\n",
    "    def alive(self):\n",
    "        if self.is_alive==False:\n",
    "            self.is_alive=True\n",
    "            return 'animal alive'\n",
    "    def drink(self):\n",
    "        if self.is_alive==True:\n",
    "            self.is_drink=True\n",
    "            return 'animal is able to drink'\n",
    "    def eat(self):\n",
    "        if self.is_alive==True:\n",
    "            self.is_eat==True\n",
    "            return 'animal is able to eat'"
   ]
  },
  {
   "cell_type": "code",
   "execution_count": 15,
   "id": "813f2c91",
   "metadata": {},
   "outputs": [],
   "source": [
    "k=Animal('meat','soda')"
   ]
  },
  {
   "cell_type": "code",
   "execution_count": 16,
   "id": "1cb87c3a",
   "metadata": {},
   "outputs": [
    {
     "data": {
      "text/plain": [
       "'animal alive'"
      ]
     },
     "execution_count": 16,
     "metadata": {},
     "output_type": "execute_result"
    }
   ],
   "source": [
    "k.alive()"
   ]
  },
  {
   "cell_type": "code",
   "execution_count": 17,
   "id": "2b4bc4ae",
   "metadata": {},
   "outputs": [
    {
     "data": {
      "text/plain": [
       "'animal is able to drink'"
      ]
     },
     "execution_count": 17,
     "metadata": {},
     "output_type": "execute_result"
    }
   ],
   "source": [
    "k.drink()"
   ]
  },
  {
   "cell_type": "code",
   "execution_count": 18,
   "id": "46249b68",
   "metadata": {},
   "outputs": [
    {
     "data": {
      "text/plain": [
       "'animal is able to eat'"
      ]
     },
     "execution_count": 18,
     "metadata": {},
     "output_type": "execute_result"
    }
   ],
   "source": [
    "k.eat()"
   ]
  },
  {
   "cell_type": "code",
   "execution_count": 27,
   "id": "b9cefd24",
   "metadata": {},
   "outputs": [],
   "source": [
    "class Harbivorous(Animal):\n",
    "    def __init__(self,grass,food,water):\n",
    "        Animal.__init__(self,food,water)\n",
    "        self.grass=grass\n",
    "        self.is_grass=False\n",
    "        \n",
    "    def eat(self):\n",
    "        s=Animal.eat(self)\n",
    "        return str(s) +' eat grass and vagitable'"
   ]
  },
  {
   "cell_type": "code",
   "execution_count": 28,
   "id": "e37a026b",
   "metadata": {},
   "outputs": [],
   "source": [
    "k1=Harbivorous('grass','meat','soda')"
   ]
  },
  {
   "cell_type": "code",
   "execution_count": 29,
   "id": "3cc8df33",
   "metadata": {},
   "outputs": [
    {
     "data": {
      "text/plain": [
       "'None eat grass and vagitable'"
      ]
     },
     "execution_count": 29,
     "metadata": {},
     "output_type": "execute_result"
    }
   ],
   "source": [
    "k1.eat()"
   ]
  },
  {
   "cell_type": "code",
   "execution_count": null,
   "id": "75031a46",
   "metadata": {},
   "outputs": [],
   "source": []
  }
 ],
 "metadata": {
  "kernelspec": {
   "display_name": "Python 3 (ipykernel)",
   "language": "python",
   "name": "python3"
  },
  "language_info": {
   "codemirror_mode": {
    "name": "ipython",
    "version": 3
   },
   "file_extension": ".py",
   "mimetype": "text/x-python",
   "name": "python",
   "nbconvert_exporter": "python",
   "pygments_lexer": "ipython3",
   "version": "3.9.7"
  }
 },
 "nbformat": 4,
 "nbformat_minor": 5
}
