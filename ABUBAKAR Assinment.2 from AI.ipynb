{
 "cells": [
  {
   "cell_type": "markdown",
   "id": "744eb042",
   "metadata": {},
   "source": [
    "# question.01"
   ]
  },
  {
   "cell_type": "code",
   "execution_count": 1,
   "id": "8146a6b2",
   "metadata": {},
   "outputs": [
    {
     "name": "stdout",
     "output_type": "stream",
     "text": [
      "984974\n",
      "the number is positive\n"
     ]
    }
   ],
   "source": [
    "a=int(input())\n",
    "if a>0:\n",
    "    print('the number is positive')\n",
    "elif a==0:\n",
    "    print('given number is zero')\n",
    "else:print('the number is negetive')\n"
   ]
  },
  {
   "cell_type": "markdown",
   "id": "4ab73fa7",
   "metadata": {},
   "source": [
    "# question.02"
   ]
  },
  {
   "cell_type": "code",
   "execution_count": 2,
   "id": "382a14ca",
   "metadata": {},
   "outputs": [
    {
     "name": "stdout",
     "output_type": "stream",
     "text": [
      "57\n",
      "the number is odd\n"
     ]
    }
   ],
   "source": [
    "a=int(input())\n",
    "if a%2==0:\n",
    "    print('the number is even')\n",
    "else:print('the number is odd')\n"
   ]
  },
  {
   "cell_type": "markdown",
   "id": "aab9ca96",
   "metadata": {},
   "source": [
    "# question.03"
   ]
  },
  {
   "cell_type": "code",
   "execution_count": 3,
   "id": "35f93fce",
   "metadata": {},
   "outputs": [
    {
     "name": "stdout",
     "output_type": "stream",
     "text": [
      "even numbers: 2\n",
      "odd numbers: 3\n",
      "even numbers: 4\n",
      "odd numbers: 5\n",
      "even numbers: 6\n",
      "odd numbers: 7\n",
      "even numbers: 8\n",
      "odd numbers: 9\n",
      "even numbers: 10\n"
     ]
    }
   ],
   "source": [
    "number=[2,3,4,5,6,7,8,9,10]\n",
    "for i in number:\n",
    "    if  i%2==0:\n",
    "        print('even numbers:',i)\n",
    "        \n",
    "    else: \n",
    "        print('odd numbers:',i)\n",
    "             "
   ]
  },
  {
   "cell_type": "markdown",
   "id": "ca4fb279",
   "metadata": {},
   "source": [
    "##### when we gets he input from the user"
   ]
  },
  {
   "cell_type": "code",
   "execution_count": 1,
   "id": "c36cfa3f",
   "metadata": {},
   "outputs": [
    {
     "name": "stdout",
     "output_type": "stream",
     "text": [
      "enter number here:2,3,4,5\n",
      "even numbers: 2\n",
      "odd numbers: 3\n",
      "even numbers: 4\n",
      "odd numbers: 5\n"
     ]
    }
   ],
   "source": [
    "num=(input('enter number here:'))\n",
    "num1=num.split(',')\n",
    "for i in num1:\n",
    "    if int(i)%2==0:\n",
    "        print('even numbers:',i)\n",
    "    else: print('odd numbers:',i)"
   ]
  },
  {
   "cell_type": "markdown",
   "id": "b5a4e04d",
   "metadata": {},
   "source": [
    "# question.04"
   ]
  },
  {
   "cell_type": "code",
   "execution_count": 4,
   "id": "9716e92d",
   "metadata": {
    "scrolled": true
   },
   "outputs": [
    {
     "name": "stdout",
     "output_type": "stream",
     "text": [
      "7864864\n",
      "the chr is digit: 7864864\n"
     ]
    }
   ],
   "source": [
    "lst=input()\n",
    "if lst.isalpha():\n",
    "    print('the chr is alphabet:',lst)\n",
    "elif lst.isdigit():\n",
    "    print('the chr is digit:',lst)\n",
    "else:print('the chr is punctuation chr:',lst)"
   ]
  },
  {
   "cell_type": "markdown",
   "id": "b6338043",
   "metadata": {},
   "source": [
    "# question.05"
   ]
  },
  {
   "cell_type": "code",
   "execution_count": 5,
   "id": "4fcc088c",
   "metadata": {},
   "outputs": [
    {
     "name": "stdout",
     "output_type": "stream",
     "text": [
      "g\n",
      "the chr is consonant\n"
     ]
    }
   ],
   "source": [
    "a=input()\n",
    "if a=='a' or a=='e' or a=='i' or a=='o'or a=='u':\n",
    "    print(\"the chr is vowel\")\n",
    "else: print('the chr is consonant')"
   ]
  },
  {
   "cell_type": "markdown",
   "id": "04e0c445",
   "metadata": {},
   "source": [
    "##### another way:"
   ]
  },
  {
   "cell_type": "code",
   "execution_count": 2,
   "id": "b8d15fc2",
   "metadata": {},
   "outputs": [
    {
     "name": "stdout",
     "output_type": "stream",
     "text": [
      "entery:u\n",
      "ch is vowel\n"
     ]
    }
   ],
   "source": [
    "a=input('entery:')\n",
    "b=['a','e','i','o','u']\n",
    "for i in a:\n",
    "    if i in b:\n",
    "        print('ch is vowel')\n",
    "    else:print('ch is consonent')"
   ]
  },
  {
   "cell_type": "markdown",
   "id": "ec750cc0",
   "metadata": {},
   "source": [
    "# question.06"
   ]
  },
  {
   "cell_type": "code",
   "execution_count": 6,
   "id": "2b44f404",
   "metadata": {},
   "outputs": [
    {
     "name": "stdout",
     "output_type": "stream",
     "text": [
      "jhrhrjiri\n",
      "consonent: j\n",
      "consonent: h\n",
      "consonent: r\n",
      "consonent: h\n",
      "consonent: r\n",
      "consonent: j\n",
      "vowel: i\n",
      "consonent: r\n",
      "vowel: i\n",
      "vowel: 2\n",
      "consnent 7\n"
     ]
    }
   ],
   "source": [
    "a=input()\n",
    "b=['a','e','i','o','u']\n",
    "b_count=0\n",
    "for i in a:\n",
    "    if i in b:\n",
    "        print('vowel:',i)\n",
    "        b_count+=1\n",
    "    else: print('consonent:',i)\n",
    "        \n",
    "print('vowel:',b_count)\n",
    "print('consnent',len(a)-b_count)\n"
   ]
  },
  {
   "cell_type": "markdown",
   "id": "3a25afdd",
   "metadata": {},
   "source": [
    "# question.07"
   ]
  },
  {
   "cell_type": "code",
   "execution_count": 7,
   "id": "abdfe1a4",
   "metadata": {},
   "outputs": [
    {
     "name": "stdout",
     "output_type": "stream",
     "text": [
      "45\n",
      "the number is not prime 45\n"
     ]
    }
   ],
   "source": [
    "num=int(input())\n",
    "\n",
    "sentinel=True\n",
    "\n",
    "for i in range(1,num):\n",
    "    if i!=1  and num%i==0:\n",
    "        print('the number is not prime',num)\n",
    "        sentinel=False\n",
    "        break\n",
    "\n",
    "if sentinel==True: print('the number is prime')"
   ]
  },
  {
   "cell_type": "markdown",
   "id": "689bc58c",
   "metadata": {},
   "source": [
    "# question.08"
   ]
  },
  {
   "cell_type": "code",
   "execution_count": 8,
   "id": "a72e13bd",
   "metadata": {},
   "outputs": [
    {
     "name": "stdout",
     "output_type": "stream",
     "text": [
      "45\n",
      "2\n",
      "3\n",
      "5\n",
      "7\n",
      "11\n",
      "13\n",
      "17\n",
      "19\n",
      "23\n",
      "29\n",
      "31\n",
      "37\n",
      "41\n",
      "43\n"
     ]
    }
   ],
   "source": [
    "num=int(input())\n",
    "for number in range(num+1):\n",
    "    if number>1:\n",
    "        for i in range (2,number):\n",
    "            if number%i==0:\n",
    "                break\n",
    "        else:print(number)             "
   ]
  },
  {
   "cell_type": "markdown",
   "id": "039a8727",
   "metadata": {},
   "source": [
    "# question.09"
   ]
  },
  {
   "cell_type": "code",
   "execution_count": 1,
   "id": "9a3511a4",
   "metadata": {},
   "outputs": [
    {
     "name": "stdout",
     "output_type": "stream",
     "text": [
      "inter your year:1\n",
      "given year is not leap year\n"
     ]
    }
   ],
   "source": [
    "year=int(input('inter your year:'))\n",
    "if(year%4==0):\n",
    "    print('given year is leap ')\n",
    "else:\n",
    "    print('given year is not leap year')\n"
   ]
  },
  {
   "cell_type": "markdown",
   "id": "14f26edd",
   "metadata": {},
   "source": [
    "# question.10"
   ]
  },
  {
   "cell_type": "code",
   "execution_count": 10,
   "id": "d4ba0a3b",
   "metadata": {},
   "outputs": [
    {
     "name": "stdout",
     "output_type": "stream",
     "text": [
      "121\n",
      "the given str is palindrome:\n"
     ]
    }
   ],
   "source": [
    "my_str= input()\n",
    "my_str1=reversed(my_str)\n",
    "if list(my_str)==list(my_str1):\n",
    "    print('the given str is palindrome:')\n",
    "else:print('the given str is not palindrome:')"
   ]
  },
  {
   "cell_type": "markdown",
   "id": "245f2642",
   "metadata": {},
   "source": [
    "# question.11"
   ]
  },
  {
   "cell_type": "code",
   "execution_count": 12,
   "id": "c5f849d0",
   "metadata": {},
   "outputs": [
    {
     "name": "stdout",
     "output_type": "stream",
     "text": [
      "3\n",
      "fectorial of: 3 is: 6\n"
     ]
    }
   ],
   "source": [
    "s1=int(input())\n",
    "f=1\n",
    "if s1>=1:\n",
    "    for i in range(1,s1+1):\n",
    "        f = f*i\n",
    "print('fectorial of:',s1,'is:',f)\n"
   ]
  },
  {
   "cell_type": "markdown",
   "id": "f5d1f4ef",
   "metadata": {},
   "source": [
    "# question.12"
   ]
  },
  {
   "cell_type": "code",
   "execution_count": 1,
   "id": "59b3cac3",
   "metadata": {},
   "outputs": [
    {
     "name": "stdout",
     "output_type": "stream",
     "text": [
      "2\n",
      "0 1\n"
     ]
    }
   ],
   "source": [
    "n=int(input())\n",
    "f1=0\n",
    "f2=1\n",
    "if n<0:\n",
    "    print('enter a positive number')\n",
    "elif n==0:\n",
    "    print(f1)\n",
    "elif n==1:\n",
    "    print(f1)\n",
    "elif n==2:\n",
    "    print(f1,f2)\n",
    "else: print(f1,f2 ,end=' ')\n",
    "for i in range(3,n+1):\n",
    "    f3 =f1+f2\n",
    "    print(f3,end=' ')\n",
    "    f1=f2\n",
    "    f2=f3\n",
    "    "
   ]
  },
  {
   "cell_type": "markdown",
   "id": "d7c02bf4",
   "metadata": {},
   "source": [
    "# question.13"
   ]
  },
  {
   "cell_type": "code",
   "execution_count": 14,
   "id": "cb3d8a88",
   "metadata": {},
   "outputs": [
    {
     "name": "stdout",
     "output_type": "stream",
     "text": [
      "90\n",
      "Grade A\n"
     ]
    }
   ],
   "source": [
    "a=int(input())\n",
    "if a>=80:\n",
    "    print('Grade A')\n",
    "elif a>=60:\n",
    "    print('Grade B')\n",
    "elif a>=40:\n",
    "    print('Grade C')\n",
    "else: print('Grade D')"
   ]
  },
  {
   "cell_type": "markdown",
   "id": "22118eec",
   "metadata": {},
   "source": [
    "# question.14"
   ]
  },
  {
   "cell_type": "code",
   "execution_count": 15,
   "id": "51b352bb",
   "metadata": {},
   "outputs": [
    {
     "name": "stdout",
     "output_type": "stream",
     "text": [
      "3\n",
      "4\n",
      "5\n",
      "given points lies on xyz plane\n"
     ]
    }
   ],
   "source": [
    "x=int(input())\n",
    "y=int(input())\n",
    "z=int(input())\n",
    "if x!=0 and y==0 and z==0:\n",
    "    print('point lies on x_axis')\n",
    "elif x==0 and y!=0 and z==0:\n",
    "    print('point lies on y_axis')\n",
    "elif x==0 and y==0 and z!=0:\n",
    "    print('point lies on z_axis')\n",
    "else:print('given points lies on xyz plane')"
   ]
  },
  {
   "cell_type": "markdown",
   "id": "9f6df9fa",
   "metadata": {},
   "source": [
    "# question.15"
   ]
  },
  {
   "cell_type": "code",
   "execution_count": 16,
   "id": "4f21d6e9",
   "metadata": {},
   "outputs": [
    {
     "name": "stdout",
     "output_type": "stream",
     "text": [
      "enter x1:3\n",
      "enter x2:4\n",
      "enter y1:5\n",
      "enter y2:6\n",
      "1.4142135623730951\n"
     ]
    }
   ],
   "source": [
    "x1=int(input('enter x1:'))\n",
    "x2=int(input('enter x2:'))\n",
    "y1=int(input('enter y1:'))\n",
    "y2=int(input('enter y2:'))\n",
    "distence=((x2-x1)**2 + (y2-y1)**2)**(1/2)\n",
    "print(distence)"
   ]
  },
  {
   "cell_type": "code",
   "execution_count": 20,
   "id": "984c5425",
   "metadata": {},
   "outputs": [
    {
     "name": "stdout",
     "output_type": "stream",
     "text": [
      "enter first point:3,7\n",
      "enter second point:5,6\n",
      "Distence b/w two points: 2.23606797749979\n"
     ]
    }
   ],
   "source": [
    "import math\n",
    "x = input('enter first point:')\n",
    "p1 = x.split(',')\n",
    "y = input('enter second point:')\n",
    "p2 = y.split(',')\n",
    "distence = math.sqrt((int(p1[0])-int(p2[0]))**2 + (int(p1[1])-int(p2[1]))**2)\n",
    "print('Distence b/w two points:',distence)"
   ]
  },
  {
   "cell_type": "markdown",
   "id": "7eb1d271",
   "metadata": {},
   "source": [
    "# question.16"
   ]
  },
  {
   "cell_type": "code",
   "execution_count": 18,
   "id": "dd5de991",
   "metadata": {},
   "outputs": [
    {
     "name": "stdout",
     "output_type": "stream",
     "text": [
      "3\n",
      "4\n",
      "5\n",
      "triangle is an  scalene triangle\n"
     ]
    }
   ],
   "source": [
    "x=int(input())\n",
    "y=int(input())\n",
    "z=int(input())\n",
    "if x==y==z:\n",
    "    print('triangle is an equilateral triangle:')\n",
    "elif x==y or y==z or z==x:\n",
    "    print('triangle is an isosceles triangle ')\n",
    "else:print('triangle is an  scalene triangle')"
   ]
  },
  {
   "cell_type": "markdown",
   "id": "0319cea8",
   "metadata": {},
   "source": [
    "# question.17"
   ]
  },
  {
   "cell_type": "code",
   "execution_count": 19,
   "id": "7c98cd24",
   "metadata": {},
   "outputs": [
    {
     "name": "stdout",
     "output_type": "stream",
     "text": [
      "Enter a number10\n",
      "Enter a number10\n",
      "Enter a number10\n",
      "Enter a number10\n",
      "Enter a numberdone\n",
      "all done\n",
      "total: 40.0 number: 4 average: 10.0\n"
     ]
    }
   ],
   "source": [
    "num = 0\n",
    "tot = 0.0\n",
    "while True:\n",
    "    number = input(\"Enter a number\")\n",
    "    if number == 'done':\n",
    "        break\n",
    "    try :\n",
    "        num1 = float(number)\n",
    "    except:\n",
    "        print('Invailed Input')\n",
    "        continue\n",
    "    num = num+1\n",
    "    tot = tot + num1\n",
    "print ('all done')\n",
    "print ('total:',tot,'number:',num,'average:',tot/num)"
   ]
  }
 ],
 "metadata": {
  "kernelspec": {
   "display_name": "Python 3 (ipykernel)",
   "language": "python",
   "name": "python3"
  },
  "language_info": {
   "codemirror_mode": {
    "name": "ipython",
    "version": 3
   },
   "file_extension": ".py",
   "mimetype": "text/x-python",
   "name": "python",
   "nbconvert_exporter": "python",
   "pygments_lexer": "ipython3",
   "version": "3.9.7"
  }
 },
 "nbformat": 4,
 "nbformat_minor": 5
}
